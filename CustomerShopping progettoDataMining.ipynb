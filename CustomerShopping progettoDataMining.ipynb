{
 "nbformat": 4,
 "nbformat_minor": 0,
 "metadata": {
  "colab": {
   "provenance": []
  },
  "kernelspec": {
   "name": "python3",
   "display_name": "Python 3"
  },
  "language_info": {
   "name": "python"
  },
  "accelerator": "TPU",
  "gpuClass": "standard"
 },
 "cells": [
  {
   "cell_type": "markdown",
   "source": [
    "_______________________________________________________________________________\n",
    "***Progetto Data Mining***"
   ],
   "metadata": {
    "id": "8vNHateaA2ku"
   }
  },
  {
   "cell_type": "markdown",
   "source": [
    "# Informazioni sul set di dati <br>\n",
    "## Contesto <br>\n",
    "Benvenuti nel mondo dello shopping di Istanbul! <br>\n",
    "Il nostro set di dati contiene informazioni sugli acquisti da 10 diversi centri commerciali tra il 2021 e il 2023. <br>\n",
    "Abbiamo raccolto dati da vari gruppi di età e sessi per fornire una visione completa delle abitudini di acquisto a Istanbul. <br>\n",
    "Il set di dati include informazioni essenziali come numeri di fattura, ID cliente, età, sesso, metodi di pagamento, categorie di prodotti, quantità, prezzo, date degli ordini e posizioni dei centri commerciali. <br>\n",
    "Ci auguriamo che questo set di dati funga da risorsa preziosa per ricercatori, analisti di dati e appassionati di machine learning che desiderano ottenere informazioni sulle tendenze e sui modelli di acquisto a Istanbul. <br>\n",
    "Esplora il set di dati e scopri l'affascinante mondo dello shopping di Istanbul! <br>\n",
    "## Contenuto <br>\n",
    "###*Informazioni sugli attributi*: <br>\n",
    "***invoice_no***: numero della fattura. Nominale. Una combinazione della lettera \"I\" e di un numero intero di 6 cifre assegnato in modo univoco a ciascuna operazione. <br>\n",
    "***customer_id***: numero cliente. Nominale. Una combinazione della lettera \"C\" e di un numero intero di 6 cifre assegnato in modo univoco a ciascuna operazione. <br>\n",
    "***gender***: variabile stringa del sesso del cliente. <br>\n",
    "***age***: Variabile intera positiva dell'età del cliente. <br>\n",
    "***category***: Variabile stringa della categoria del prodotto acquistato. <br>\n",
    "***quantity***: le quantità di ciascun prodotto (articolo) per transazione. Numerico. <br>\n",
    "***price***: Prezzo unitario. Numerico. Prezzo del prodotto per unità in lire turche (TL). <br>\n",
    "***payment_method***: Variabile stringa del metodo di pagamento (contanti, carta di credito o bancomat) utilizzato per la transazione. <br>\n",
    "***invoice_date***: data della fattura. Il giorno in cui è stata generata una transazione. <br>\n",
    "***shopping_mall***: Variabile stringa del nome del centro commerciale dove è stata effettuata la transazione. <br>"
   ],
   "metadata": {
    "id": "Shm5uyPsA-FE"
   }
  },
  {
   "cell_type": "code",
   "source": [
    "from pandas import DataFrame, Series\n",
    "from io import StringIO \n",
    "import pandas as pd\n",
    "import numpy as np\n",
    "import os\n",
    "import matplotlib\n",
    "import matplotlib.pyplot as plt\n",
    "from IPython.display import Image\n",
    "import seaborn as sb \n",
    "import statistics as stat\n",
    "import time\n",
    "import math"
   ],
   "metadata": {
    "id": "8FYdwdqsA6rP",
    "executionInfo": {
     "status": "ok",
     "timestamp": 1682874225881,
     "user_tz": -120,
     "elapsed": 436,
     "user": {
      "displayName": "Vincenzo Dimondo",
      "userId": "04023774400202034399"
     }
    }
   },
   "execution_count": 1,
   "outputs": []
  },
  {
   "cell_type": "code",
   "source": [
    "from sklearn.preprocessing import LabelEncoder\n",
    "from sklearn.preprocessing import OneHotEncoder\n",
    "from sklearn.model_selection import train_test_split\n",
    "from sklearn.metrics import * \n",
    "from sklearn.model_selection import cross_val_score\n",
    "from sklearn.tree import DecisionTreeClassifier\n",
    "from sklearn.linear_model import SGDClassifier\n",
    "from sklearn.neighbors import KNeighborsClassifier\n",
    "from sklearn.naive_bayes import GaussianNB\n",
    "from sklearn.linear_model import LogisticRegression\n",
    "from sklearn.neural_network import MLPClassifier\n",
    "from sklearn.experimental import enable_halving_search_cv \n",
    "from sklearn.model_selection import HalvingGridSearchCV\n",
    "from sklearn.ensemble import VotingClassifier\n",
    "from sklearn.ensemble import RandomForestClassifier\n",
    "from sklearn.preprocessing import OrdinalEncoder\n"
   ],
   "metadata": {
    "id": "WM-rEmY56zai",
    "executionInfo": {
     "status": "ok",
     "timestamp": 1682874226157,
     "user_tz": -120,
     "elapsed": 8,
     "user": {
      "displayName": "Vincenzo Dimondo",
      "userId": "04023774400202034399"
     }
    }
   },
   "execution_count": 2,
   "outputs": []
  },
  {
   "cell_type": "code",
   "source": [
    "def describe(a):\n",
    "    if type(a) is np.ndarray:\n",
    "        print(\"data:\\n{}\\nshape:{}\\ndtype:{}\\ntype: {}\".format(a, a.shape, a.dtype, type(a)))\n",
    "    elif type(a) is pd.Series:\n",
    "        print(\"data:\\n{}\\nshape:{}\\ndtype:{}\\nname:{}\\nindex-name:{}\\ntype:{}\".format(a, a.shape, a.dtype, a.name, a.index.name, type(a)))\n",
    "    elif type(a) is pd.DataFrame:\n",
    "        print(\"data:\\n{}\\nshape:{}\\ntype:{}\".format(a, a.shape,type(a)))\n",
    "    else:\n",
    "        print(\"{}, type:{}\".format(a, type(a)))"
   ],
   "metadata": {
    "id": "BiXFx8XJ6uuh",
    "executionInfo": {
     "status": "ok",
     "timestamp": 1682874226159,
     "user_tz": -120,
     "elapsed": 9,
     "user": {
      "displayName": "Vincenzo Dimondo",
      "userId": "04023774400202034399"
     }
    }
   },
   "execution_count": 3,
   "outputs": []
  },
  {
   "cell_type": "code",
   "source": [
    "#from google.colab import drive\n",
    "#drive.mount('/content/drive')"
   ],
   "metadata": {
    "colab": {
     "base_uri": "https://localhost:8080/"
    },
    "id": "bdLNawhZDLyA",
    "executionInfo": {
     "status": "ok",
     "timestamp": 1682874228176,
     "user_tz": -120,
     "elapsed": 2026,
     "user": {
      "displayName": "Vincenzo Dimondo",
      "userId": "04023774400202034399"
     }
    },
    "outputId": "d000bb61-e2b8-4d5e-91d7-014ccfa7dfc9"
   },
   "execution_count": 4,
   "outputs": []
  },
  {
   "cell_type": "code",
   "source": [
    "#dataFrameShopping = pd.read_csv(\"/content/drive/MyDrive/customer_shopping_data.csv\")\n",
    "dataFrameShopping = pd.read_csv(\"content/drive/MyDrive/customer_shopping_data.csv\")"
   ],
   "metadata": {
    "id": "Tv4y3JU0DQXg",
    "executionInfo": {
     "status": "ok",
     "timestamp": 1682874228178,
     "user_tz": -120,
     "elapsed": 106,
     "user": {
      "displayName": "Vincenzo Dimondo",
      "userId": "04023774400202034399"
     }
    }
   },
   "execution_count": 5,
   "outputs": []
  },
  {
   "cell_type": "code",
   "source": [
    "dataFrameShopping.shape"
   ],
   "metadata": {
    "colab": {
     "base_uri": "https://localhost:8080/"
    },
    "id": "GTUp5X2vGUNT",
    "executionInfo": {
     "status": "ok",
     "timestamp": 1682874228180,
     "user_tz": -120,
     "elapsed": 106,
     "user": {
      "displayName": "Vincenzo Dimondo",
      "userId": "04023774400202034399"
     }
    },
    "outputId": "56b52c38-d432-4dd9-fc21-c87988bf88b6"
   },
   "execution_count": 6,
   "outputs": [
    {
     "data": {
      "text/plain": "(99457, 10)"
     },
     "execution_count": 6,
     "metadata": {},
     "output_type": "execute_result"
    }
   ]
  },
  {
   "cell_type": "code",
   "source": [
    "dataFrameShopping.sample(frac=1).head(20)"
   ],
   "metadata": {
    "id": "cDR9b4gWGoZG",
    "executionInfo": {
     "status": "ok",
     "timestamp": 1682874228180,
     "user_tz": -120,
     "elapsed": 27,
     "user": {
      "displayName": "Vincenzo Dimondo",
      "userId": "04023774400202034399"
     }
    },
    "colab": {
     "base_uri": "https://localhost:8080/",
     "height": 676
    },
    "outputId": "9d9d36c0-05b3-44e4-965b-5d4c24f544b9"
   },
   "execution_count": 7,
   "outputs": [
    {
     "data": {
      "text/plain": "      invoice_no customer_id  gender  age         category  quantity    price  \\\n46273    I285304     C145512  Female   35             Toys         5   179.20   \n99346    I253596     C177601  Female   33         Clothing         5  1500.40   \n83056    I218084     C284596  Female   54            Shoes         3  1800.51   \n13217    I286305     C251939  Female   25  Food & Beverage         2    10.46   \n44572    I110008     C765354    Male   39        Cosmetics         2    81.32   \n86283    I237920     C322799    Male   60        Cosmetics         1    40.66   \n68506    I230552     C262166    Male   43            Books         1    15.15   \n82665    I301179     C152841  Female   24        Cosmetics         4   162.64   \n19568    I441461     C213767    Male   60         Clothing         5  1500.40   \n26113    I124528     C267038    Male   33  Food & Beverage         2    10.46   \n63521    I334713     C268581  Female   47       Technology         5  5250.00   \n41274    I188576     C337988    Male   49        Cosmetics         5   203.30   \n24855    I156320     C334064    Male   31        Cosmetics         5   203.30   \n51225    I162393     C347690    Male   38         Clothing         1   300.08   \n27948    I258908     C139785  Female   60             Toys         5   179.20   \n65174    I322681     C214898    Male   44            Shoes         4  2400.68   \n21358    I126388     C759862    Male   46  Food & Beverage         2    10.46   \n92647    I384575     C105509    Male   42        Cosmetics         5   203.30   \n29644    I270632     C326851    Male   66  Food & Beverage         3    15.69   \n15587    I106708     C147011    Male   34         Clothing         5  1500.40   \n\n      payment_method invoice_date     shopping_mall  \n46273           Cash   20/06/2022  Mall of Istanbul  \n99346     Debit Card    11/3/2021      Metropol AVM  \n83056           Cash   27/06/2022         Metrocity  \n13217     Debit Card   24/12/2022  Mall of Istanbul  \n44572    Credit Card   23/01/2023         Metrocity  \n86283    Credit Card     3/2/2021  Mall of Istanbul  \n68506           Cash   17/03/2021       Cevahir AVM  \n82665     Debit Card   19/08/2021         Metrocity  \n19568           Cash    11/2/2022  Mall of Istanbul  \n26113           Cash     5/6/2021      Metropol AVM  \n63521     Debit Card   29/11/2021       Cevahir AVM  \n41274     Debit Card   28/01/2023       Cevahir AVM  \n24855    Credit Card    4/11/2022    Viaport Outlet  \n51225    Credit Card   30/06/2022  Mall of Istanbul  \n27948    Credit Card   15/11/2022  Mall of Istanbul  \n65174     Debit Card   23/10/2021            Kanyon  \n21358           Cash   19/01/2023    Viaport Outlet  \n92647    Credit Card   14/08/2022  Mall of Istanbul  \n29644    Credit Card   26/12/2022       Cevahir AVM  \n15587    Credit Card   26/11/2021  Mall of Istanbul  ",
      "text/html": "<div>\n<style scoped>\n    .dataframe tbody tr th:only-of-type {\n        vertical-align: middle;\n    }\n\n    .dataframe tbody tr th {\n        vertical-align: top;\n    }\n\n    .dataframe thead th {\n        text-align: right;\n    }\n</style>\n<table border=\"1\" class=\"dataframe\">\n  <thead>\n    <tr style=\"text-align: right;\">\n      <th></th>\n      <th>invoice_no</th>\n      <th>customer_id</th>\n      <th>gender</th>\n      <th>age</th>\n      <th>category</th>\n      <th>quantity</th>\n      <th>price</th>\n      <th>payment_method</th>\n      <th>invoice_date</th>\n      <th>shopping_mall</th>\n    </tr>\n  </thead>\n  <tbody>\n    <tr>\n      <th>46273</th>\n      <td>I285304</td>\n      <td>C145512</td>\n      <td>Female</td>\n      <td>35</td>\n      <td>Toys</td>\n      <td>5</td>\n      <td>179.20</td>\n      <td>Cash</td>\n      <td>20/06/2022</td>\n      <td>Mall of Istanbul</td>\n    </tr>\n    <tr>\n      <th>99346</th>\n      <td>I253596</td>\n      <td>C177601</td>\n      <td>Female</td>\n      <td>33</td>\n      <td>Clothing</td>\n      <td>5</td>\n      <td>1500.40</td>\n      <td>Debit Card</td>\n      <td>11/3/2021</td>\n      <td>Metropol AVM</td>\n    </tr>\n    <tr>\n      <th>83056</th>\n      <td>I218084</td>\n      <td>C284596</td>\n      <td>Female</td>\n      <td>54</td>\n      <td>Shoes</td>\n      <td>3</td>\n      <td>1800.51</td>\n      <td>Cash</td>\n      <td>27/06/2022</td>\n      <td>Metrocity</td>\n    </tr>\n    <tr>\n      <th>13217</th>\n      <td>I286305</td>\n      <td>C251939</td>\n      <td>Female</td>\n      <td>25</td>\n      <td>Food &amp; Beverage</td>\n      <td>2</td>\n      <td>10.46</td>\n      <td>Debit Card</td>\n      <td>24/12/2022</td>\n      <td>Mall of Istanbul</td>\n    </tr>\n    <tr>\n      <th>44572</th>\n      <td>I110008</td>\n      <td>C765354</td>\n      <td>Male</td>\n      <td>39</td>\n      <td>Cosmetics</td>\n      <td>2</td>\n      <td>81.32</td>\n      <td>Credit Card</td>\n      <td>23/01/2023</td>\n      <td>Metrocity</td>\n    </tr>\n    <tr>\n      <th>86283</th>\n      <td>I237920</td>\n      <td>C322799</td>\n      <td>Male</td>\n      <td>60</td>\n      <td>Cosmetics</td>\n      <td>1</td>\n      <td>40.66</td>\n      <td>Credit Card</td>\n      <td>3/2/2021</td>\n      <td>Mall of Istanbul</td>\n    </tr>\n    <tr>\n      <th>68506</th>\n      <td>I230552</td>\n      <td>C262166</td>\n      <td>Male</td>\n      <td>43</td>\n      <td>Books</td>\n      <td>1</td>\n      <td>15.15</td>\n      <td>Cash</td>\n      <td>17/03/2021</td>\n      <td>Cevahir AVM</td>\n    </tr>\n    <tr>\n      <th>82665</th>\n      <td>I301179</td>\n      <td>C152841</td>\n      <td>Female</td>\n      <td>24</td>\n      <td>Cosmetics</td>\n      <td>4</td>\n      <td>162.64</td>\n      <td>Debit Card</td>\n      <td>19/08/2021</td>\n      <td>Metrocity</td>\n    </tr>\n    <tr>\n      <th>19568</th>\n      <td>I441461</td>\n      <td>C213767</td>\n      <td>Male</td>\n      <td>60</td>\n      <td>Clothing</td>\n      <td>5</td>\n      <td>1500.40</td>\n      <td>Cash</td>\n      <td>11/2/2022</td>\n      <td>Mall of Istanbul</td>\n    </tr>\n    <tr>\n      <th>26113</th>\n      <td>I124528</td>\n      <td>C267038</td>\n      <td>Male</td>\n      <td>33</td>\n      <td>Food &amp; Beverage</td>\n      <td>2</td>\n      <td>10.46</td>\n      <td>Cash</td>\n      <td>5/6/2021</td>\n      <td>Metropol AVM</td>\n    </tr>\n    <tr>\n      <th>63521</th>\n      <td>I334713</td>\n      <td>C268581</td>\n      <td>Female</td>\n      <td>47</td>\n      <td>Technology</td>\n      <td>5</td>\n      <td>5250.00</td>\n      <td>Debit Card</td>\n      <td>29/11/2021</td>\n      <td>Cevahir AVM</td>\n    </tr>\n    <tr>\n      <th>41274</th>\n      <td>I188576</td>\n      <td>C337988</td>\n      <td>Male</td>\n      <td>49</td>\n      <td>Cosmetics</td>\n      <td>5</td>\n      <td>203.30</td>\n      <td>Debit Card</td>\n      <td>28/01/2023</td>\n      <td>Cevahir AVM</td>\n    </tr>\n    <tr>\n      <th>24855</th>\n      <td>I156320</td>\n      <td>C334064</td>\n      <td>Male</td>\n      <td>31</td>\n      <td>Cosmetics</td>\n      <td>5</td>\n      <td>203.30</td>\n      <td>Credit Card</td>\n      <td>4/11/2022</td>\n      <td>Viaport Outlet</td>\n    </tr>\n    <tr>\n      <th>51225</th>\n      <td>I162393</td>\n      <td>C347690</td>\n      <td>Male</td>\n      <td>38</td>\n      <td>Clothing</td>\n      <td>1</td>\n      <td>300.08</td>\n      <td>Credit Card</td>\n      <td>30/06/2022</td>\n      <td>Mall of Istanbul</td>\n    </tr>\n    <tr>\n      <th>27948</th>\n      <td>I258908</td>\n      <td>C139785</td>\n      <td>Female</td>\n      <td>60</td>\n      <td>Toys</td>\n      <td>5</td>\n      <td>179.20</td>\n      <td>Credit Card</td>\n      <td>15/11/2022</td>\n      <td>Mall of Istanbul</td>\n    </tr>\n    <tr>\n      <th>65174</th>\n      <td>I322681</td>\n      <td>C214898</td>\n      <td>Male</td>\n      <td>44</td>\n      <td>Shoes</td>\n      <td>4</td>\n      <td>2400.68</td>\n      <td>Debit Card</td>\n      <td>23/10/2021</td>\n      <td>Kanyon</td>\n    </tr>\n    <tr>\n      <th>21358</th>\n      <td>I126388</td>\n      <td>C759862</td>\n      <td>Male</td>\n      <td>46</td>\n      <td>Food &amp; Beverage</td>\n      <td>2</td>\n      <td>10.46</td>\n      <td>Cash</td>\n      <td>19/01/2023</td>\n      <td>Viaport Outlet</td>\n    </tr>\n    <tr>\n      <th>92647</th>\n      <td>I384575</td>\n      <td>C105509</td>\n      <td>Male</td>\n      <td>42</td>\n      <td>Cosmetics</td>\n      <td>5</td>\n      <td>203.30</td>\n      <td>Credit Card</td>\n      <td>14/08/2022</td>\n      <td>Mall of Istanbul</td>\n    </tr>\n    <tr>\n      <th>29644</th>\n      <td>I270632</td>\n      <td>C326851</td>\n      <td>Male</td>\n      <td>66</td>\n      <td>Food &amp; Beverage</td>\n      <td>3</td>\n      <td>15.69</td>\n      <td>Credit Card</td>\n      <td>26/12/2022</td>\n      <td>Cevahir AVM</td>\n    </tr>\n    <tr>\n      <th>15587</th>\n      <td>I106708</td>\n      <td>C147011</td>\n      <td>Male</td>\n      <td>34</td>\n      <td>Clothing</td>\n      <td>5</td>\n      <td>1500.40</td>\n      <td>Credit Card</td>\n      <td>26/11/2021</td>\n      <td>Mall of Istanbul</td>\n    </tr>\n  </tbody>\n</table>\n</div>"
     },
     "execution_count": 7,
     "metadata": {},
     "output_type": "execute_result"
    }
   ]
  },
  {
   "cell_type": "code",
   "source": [
    "dataFrameShopping.info()"
   ],
   "metadata": {
    "id": "1SCuEUnXHDZG",
    "executionInfo": {
     "status": "ok",
     "timestamp": 1682874229032,
     "user_tz": -120,
     "elapsed": 875,
     "user": {
      "displayName": "Vincenzo Dimondo",
      "userId": "04023774400202034399"
     }
    },
    "colab": {
     "base_uri": "https://localhost:8080/"
    },
    "outputId": "9e4fc4eb-29dc-4c72-dc1f-2ee4014dcf58"
   },
   "execution_count": 8,
   "outputs": [
    {
     "name": "stdout",
     "output_type": "stream",
     "text": [
      "<class 'pandas.core.frame.DataFrame'>\n",
      "RangeIndex: 99457 entries, 0 to 99456\n",
      "Data columns (total 10 columns):\n",
      " #   Column          Non-Null Count  Dtype  \n",
      "---  ------          --------------  -----  \n",
      " 0   invoice_no      99457 non-null  object \n",
      " 1   customer_id     99457 non-null  object \n",
      " 2   gender          99457 non-null  object \n",
      " 3   age             99457 non-null  int64  \n",
      " 4   category        99457 non-null  object \n",
      " 5   quantity        99457 non-null  int64  \n",
      " 6   price           99457 non-null  float64\n",
      " 7   payment_method  99457 non-null  object \n",
      " 8   invoice_date    99457 non-null  object \n",
      " 9   shopping_mall   99457 non-null  object \n",
      "dtypes: float64(1), int64(2), object(7)\n",
      "memory usage: 7.6+ MB\n"
     ]
    }
   ]
  },
  {
   "cell_type": "code",
   "source": [
    "dataFrameShopping.describe()"
   ],
   "metadata": {
    "id": "uRJ9nloVFIsD",
    "executionInfo": {
     "status": "ok",
     "timestamp": 1682874229077,
     "user_tz": -120,
     "elapsed": 132,
     "user": {
      "displayName": "Vincenzo Dimondo",
      "userId": "04023774400202034399"
     }
    },
    "colab": {
     "base_uri": "https://localhost:8080/",
     "height": 300
    },
    "outputId": "e00ad7d1-4dd4-40b0-a7ae-2c0d7488db61"
   },
   "execution_count": 9,
   "outputs": [
    {
     "data": {
      "text/plain": "                age      quantity         price\ncount  99457.000000  99457.000000  99457.000000\nmean      43.427089      3.003429    689.256321\nstd       14.990054      1.413025    941.184567\nmin       18.000000      1.000000      5.230000\n25%       30.000000      2.000000     45.450000\n50%       43.000000      3.000000    203.300000\n75%       56.000000      4.000000   1200.320000\nmax       69.000000      5.000000   5250.000000",
      "text/html": "<div>\n<style scoped>\n    .dataframe tbody tr th:only-of-type {\n        vertical-align: middle;\n    }\n\n    .dataframe tbody tr th {\n        vertical-align: top;\n    }\n\n    .dataframe thead th {\n        text-align: right;\n    }\n</style>\n<table border=\"1\" class=\"dataframe\">\n  <thead>\n    <tr style=\"text-align: right;\">\n      <th></th>\n      <th>age</th>\n      <th>quantity</th>\n      <th>price</th>\n    </tr>\n  </thead>\n  <tbody>\n    <tr>\n      <th>count</th>\n      <td>99457.000000</td>\n      <td>99457.000000</td>\n      <td>99457.000000</td>\n    </tr>\n    <tr>\n      <th>mean</th>\n      <td>43.427089</td>\n      <td>3.003429</td>\n      <td>689.256321</td>\n    </tr>\n    <tr>\n      <th>std</th>\n      <td>14.990054</td>\n      <td>1.413025</td>\n      <td>941.184567</td>\n    </tr>\n    <tr>\n      <th>min</th>\n      <td>18.000000</td>\n      <td>1.000000</td>\n      <td>5.230000</td>\n    </tr>\n    <tr>\n      <th>25%</th>\n      <td>30.000000</td>\n      <td>2.000000</td>\n      <td>45.450000</td>\n    </tr>\n    <tr>\n      <th>50%</th>\n      <td>43.000000</td>\n      <td>3.000000</td>\n      <td>203.300000</td>\n    </tr>\n    <tr>\n      <th>75%</th>\n      <td>56.000000</td>\n      <td>4.000000</td>\n      <td>1200.320000</td>\n    </tr>\n    <tr>\n      <th>max</th>\n      <td>69.000000</td>\n      <td>5.000000</td>\n      <td>5250.000000</td>\n    </tr>\n  </tbody>\n</table>\n</div>"
     },
     "execution_count": 9,
     "metadata": {},
     "output_type": "execute_result"
    }
   ]
  },
  {
   "cell_type": "code",
   "source": [
    "dataFrameShopping.duplicated().value_counts()"
   ],
   "metadata": {
    "id": "JjfqBlxKHmLe",
    "executionInfo": {
     "status": "ok",
     "timestamp": 1682874229078,
     "user_tz": -120,
     "elapsed": 131,
     "user": {
      "displayName": "Vincenzo Dimondo",
      "userId": "04023774400202034399"
     }
    },
    "colab": {
     "base_uri": "https://localhost:8080/"
    },
    "outputId": "feaaa6f9-d069-48b1-a856-f29ac2b2062d"
   },
   "execution_count": 10,
   "outputs": [
    {
     "data": {
      "text/plain": "False    99457\ndtype: int64"
     },
     "execution_count": 10,
     "metadata": {},
     "output_type": "execute_result"
    }
   ]
  },
  {
   "cell_type": "markdown",
   "source": [
    "Dal dataset non risulta alcuna colonna contenene valori NULL, \n",
    "per cui si procede con il pre-processing del dataset."
   ],
   "metadata": {
    "id": "7dAhHVL8DRKS"
   }
  },
  {
   "cell_type": "markdown",
   "source": [
    "***PRE-PROCESSING***"
   ],
   "metadata": {
    "id": "wiv6ft6nDmTM"
   }
  },
  {
   "cell_type": "markdown",
   "source": [
    "Il primo passo del pre-processing consiste nel creare una copia del dataset,\n",
    "su cui andiamo a fare le modifiche.\n",
    "Queste mmodifiche rappresentano nell'eliminare le prime due colonne,\n",
    "ovvero l'ID della fattura e l'ID del cliente."
   ],
   "metadata": {
    "id": "c9AOahepFHk1"
   }
  },
  {
   "cell_type": "code",
   "source": [
    "dfCopy = dataFrameShopping.copy()"
   ],
   "metadata": {
    "id": "b4ZCrHEdGROH",
    "executionInfo": {
     "status": "ok",
     "timestamp": 1682874229079,
     "user_tz": -120,
     "elapsed": 128,
     "user": {
      "displayName": "Vincenzo Dimondo",
      "userId": "04023774400202034399"
     }
    }
   },
   "execution_count": 11,
   "outputs": []
  },
  {
   "cell_type": "code",
   "source": [
    "dfCopy.head()"
   ],
   "metadata": {
    "id": "3r6ifhMxGbLo",
    "executionInfo": {
     "status": "ok",
     "timestamp": 1682874229080,
     "user_tz": -120,
     "elapsed": 128,
     "user": {
      "displayName": "Vincenzo Dimondo",
      "userId": "04023774400202034399"
     }
    },
    "colab": {
     "base_uri": "https://localhost:8080/",
     "height": 206
    },
    "outputId": "2b269828-5659-41e0-fa10-c6b4ba96b7bb"
   },
   "execution_count": 12,
   "outputs": [
    {
     "data": {
      "text/plain": "  invoice_no customer_id  gender  age  category  quantity    price  \\\n0    I138884     C241288  Female   28  Clothing         5  1500.40   \n1    I317333     C111565    Male   21     Shoes         3  1800.51   \n2    I127801     C266599    Male   20  Clothing         1   300.08   \n3    I173702     C988172  Female   66     Shoes         5  3000.85   \n4    I337046     C189076  Female   53     Books         4    60.60   \n\n  payment_method invoice_date   shopping_mall  \n0    Credit Card     5/8/2022          Kanyon  \n1     Debit Card   12/12/2021  Forum Istanbul  \n2           Cash    9/11/2021       Metrocity  \n3    Credit Card   16/05/2021    Metropol AVM  \n4           Cash   24/10/2021          Kanyon  ",
      "text/html": "<div>\n<style scoped>\n    .dataframe tbody tr th:only-of-type {\n        vertical-align: middle;\n    }\n\n    .dataframe tbody tr th {\n        vertical-align: top;\n    }\n\n    .dataframe thead th {\n        text-align: right;\n    }\n</style>\n<table border=\"1\" class=\"dataframe\">\n  <thead>\n    <tr style=\"text-align: right;\">\n      <th></th>\n      <th>invoice_no</th>\n      <th>customer_id</th>\n      <th>gender</th>\n      <th>age</th>\n      <th>category</th>\n      <th>quantity</th>\n      <th>price</th>\n      <th>payment_method</th>\n      <th>invoice_date</th>\n      <th>shopping_mall</th>\n    </tr>\n  </thead>\n  <tbody>\n    <tr>\n      <th>0</th>\n      <td>I138884</td>\n      <td>C241288</td>\n      <td>Female</td>\n      <td>28</td>\n      <td>Clothing</td>\n      <td>5</td>\n      <td>1500.40</td>\n      <td>Credit Card</td>\n      <td>5/8/2022</td>\n      <td>Kanyon</td>\n    </tr>\n    <tr>\n      <th>1</th>\n      <td>I317333</td>\n      <td>C111565</td>\n      <td>Male</td>\n      <td>21</td>\n      <td>Shoes</td>\n      <td>3</td>\n      <td>1800.51</td>\n      <td>Debit Card</td>\n      <td>12/12/2021</td>\n      <td>Forum Istanbul</td>\n    </tr>\n    <tr>\n      <th>2</th>\n      <td>I127801</td>\n      <td>C266599</td>\n      <td>Male</td>\n      <td>20</td>\n      <td>Clothing</td>\n      <td>1</td>\n      <td>300.08</td>\n      <td>Cash</td>\n      <td>9/11/2021</td>\n      <td>Metrocity</td>\n    </tr>\n    <tr>\n      <th>3</th>\n      <td>I173702</td>\n      <td>C988172</td>\n      <td>Female</td>\n      <td>66</td>\n      <td>Shoes</td>\n      <td>5</td>\n      <td>3000.85</td>\n      <td>Credit Card</td>\n      <td>16/05/2021</td>\n      <td>Metropol AVM</td>\n    </tr>\n    <tr>\n      <th>4</th>\n      <td>I337046</td>\n      <td>C189076</td>\n      <td>Female</td>\n      <td>53</td>\n      <td>Books</td>\n      <td>4</td>\n      <td>60.60</td>\n      <td>Cash</td>\n      <td>24/10/2021</td>\n      <td>Kanyon</td>\n    </tr>\n  </tbody>\n</table>\n</div>"
     },
     "execution_count": 12,
     "metadata": {},
     "output_type": "execute_result"
    }
   ]
  },
  {
   "cell_type": "code",
   "source": [
    "dfCopy = dfCopy.drop(columns=['invoice_no','customer_id'])"
   ],
   "metadata": {
    "id": "vV53DydtGbHf",
    "executionInfo": {
     "status": "ok",
     "timestamp": 1682874229081,
     "user_tz": -120,
     "elapsed": 128,
     "user": {
      "displayName": "Vincenzo Dimondo",
      "userId": "04023774400202034399"
     }
    }
   },
   "execution_count": 13,
   "outputs": []
  },
  {
   "cell_type": "markdown",
   "source": [
    "A questo punto andiamo a mappare le stringhe con valori interi.\n",
    "\n",
    "Per la colonna relativa al genere la andiamo a mappare con il valore binario 0/1, in cui il valore 0 rapprensenta 'Female' e il valore 1 'Male'."
   ],
   "metadata": {
    "id": "H3QRN7p7G2Pe"
   }
  },
  {
   "cell_type": "code",
   "source": [
    "dfCopyGender = dfCopy.copy()\n",
    "dfCopyGender.head()"
   ],
   "metadata": {
    "id": "aEkENVHmGbBg",
    "executionInfo": {
     "status": "ok",
     "timestamp": 1682874229081,
     "user_tz": -120,
     "elapsed": 128,
     "user": {
      "displayName": "Vincenzo Dimondo",
      "userId": "04023774400202034399"
     }
    },
    "colab": {
     "base_uri": "https://localhost:8080/",
     "height": 206
    },
    "outputId": "3c2673c3-1985-44f4-a59c-77408b9073cd"
   },
   "execution_count": 14,
   "outputs": [
    {
     "data": {
      "text/plain": "   gender  age  category  quantity    price payment_method invoice_date  \\\n0  Female   28  Clothing         5  1500.40    Credit Card     5/8/2022   \n1    Male   21     Shoes         3  1800.51     Debit Card   12/12/2021   \n2    Male   20  Clothing         1   300.08           Cash    9/11/2021   \n3  Female   66     Shoes         5  3000.85    Credit Card   16/05/2021   \n4  Female   53     Books         4    60.60           Cash   24/10/2021   \n\n    shopping_mall  \n0          Kanyon  \n1  Forum Istanbul  \n2       Metrocity  \n3    Metropol AVM  \n4          Kanyon  ",
      "text/html": "<div>\n<style scoped>\n    .dataframe tbody tr th:only-of-type {\n        vertical-align: middle;\n    }\n\n    .dataframe tbody tr th {\n        vertical-align: top;\n    }\n\n    .dataframe thead th {\n        text-align: right;\n    }\n</style>\n<table border=\"1\" class=\"dataframe\">\n  <thead>\n    <tr style=\"text-align: right;\">\n      <th></th>\n      <th>gender</th>\n      <th>age</th>\n      <th>category</th>\n      <th>quantity</th>\n      <th>price</th>\n      <th>payment_method</th>\n      <th>invoice_date</th>\n      <th>shopping_mall</th>\n    </tr>\n  </thead>\n  <tbody>\n    <tr>\n      <th>0</th>\n      <td>Female</td>\n      <td>28</td>\n      <td>Clothing</td>\n      <td>5</td>\n      <td>1500.40</td>\n      <td>Credit Card</td>\n      <td>5/8/2022</td>\n      <td>Kanyon</td>\n    </tr>\n    <tr>\n      <th>1</th>\n      <td>Male</td>\n      <td>21</td>\n      <td>Shoes</td>\n      <td>3</td>\n      <td>1800.51</td>\n      <td>Debit Card</td>\n      <td>12/12/2021</td>\n      <td>Forum Istanbul</td>\n    </tr>\n    <tr>\n      <th>2</th>\n      <td>Male</td>\n      <td>20</td>\n      <td>Clothing</td>\n      <td>1</td>\n      <td>300.08</td>\n      <td>Cash</td>\n      <td>9/11/2021</td>\n      <td>Metrocity</td>\n    </tr>\n    <tr>\n      <th>3</th>\n      <td>Female</td>\n      <td>66</td>\n      <td>Shoes</td>\n      <td>5</td>\n      <td>3000.85</td>\n      <td>Credit Card</td>\n      <td>16/05/2021</td>\n      <td>Metropol AVM</td>\n    </tr>\n    <tr>\n      <th>4</th>\n      <td>Female</td>\n      <td>53</td>\n      <td>Books</td>\n      <td>4</td>\n      <td>60.60</td>\n      <td>Cash</td>\n      <td>24/10/2021</td>\n      <td>Kanyon</td>\n    </tr>\n  </tbody>\n</table>\n</div>"
     },
     "execution_count": 14,
     "metadata": {},
     "output_type": "execute_result"
    }
   ]
  },
  {
   "cell_type": "code",
   "source": [
    "dfCopyGender['gender'].replace(['Female', 'Male'], [0,1], inplace=True)"
   ],
   "metadata": {
    "id": "sAY0RVosGbEg",
    "executionInfo": {
     "status": "ok",
     "timestamp": 1682874229082,
     "user_tz": -120,
     "elapsed": 125,
     "user": {
      "displayName": "Vincenzo Dimondo",
      "userId": "04023774400202034399"
     }
    }
   },
   "execution_count": 15,
   "outputs": []
  },
  {
   "cell_type": "code",
   "source": [
    "dfCopyGender"
   ],
   "metadata": {
    "id": "_XfylZynZocK",
    "executionInfo": {
     "status": "ok",
     "timestamp": 1682874229083,
     "user_tz": -120,
     "elapsed": 125,
     "user": {
      "displayName": "Vincenzo Dimondo",
      "userId": "04023774400202034399"
     }
    },
    "colab": {
     "base_uri": "https://localhost:8080/",
     "height": 423
    },
    "outputId": "10fec160-d78e-4d38-bdbe-45c3397712f7"
   },
   "execution_count": 16,
   "outputs": [
    {
     "data": {
      "text/plain": "       gender  age         category  quantity    price payment_method  \\\n0           0   28         Clothing         5  1500.40    Credit Card   \n1           1   21            Shoes         3  1800.51     Debit Card   \n2           1   20         Clothing         1   300.08           Cash   \n3           0   66            Shoes         5  3000.85    Credit Card   \n4           0   53            Books         4    60.60           Cash   \n...       ...  ...              ...       ...      ...            ...   \n99452       0   45         Souvenir         5    58.65    Credit Card   \n99453       1   27  Food & Beverage         2    10.46           Cash   \n99454       1   63  Food & Beverage         2    10.46     Debit Card   \n99455       1   56       Technology         4  4200.00           Cash   \n99456       0   36         Souvenir         3    35.19    Credit Card   \n\n      invoice_date     shopping_mall  \n0         5/8/2022            Kanyon  \n1       12/12/2021    Forum Istanbul  \n2        9/11/2021         Metrocity  \n3       16/05/2021      Metropol AVM  \n4       24/10/2021            Kanyon  \n...            ...               ...  \n99452   21/09/2022            Kanyon  \n99453   22/09/2021    Forum Istanbul  \n99454   28/03/2021         Metrocity  \n99455   16/03/2021      Istinye Park  \n99456   15/10/2022  Mall of Istanbul  \n\n[99457 rows x 8 columns]",
      "text/html": "<div>\n<style scoped>\n    .dataframe tbody tr th:only-of-type {\n        vertical-align: middle;\n    }\n\n    .dataframe tbody tr th {\n        vertical-align: top;\n    }\n\n    .dataframe thead th {\n        text-align: right;\n    }\n</style>\n<table border=\"1\" class=\"dataframe\">\n  <thead>\n    <tr style=\"text-align: right;\">\n      <th></th>\n      <th>gender</th>\n      <th>age</th>\n      <th>category</th>\n      <th>quantity</th>\n      <th>price</th>\n      <th>payment_method</th>\n      <th>invoice_date</th>\n      <th>shopping_mall</th>\n    </tr>\n  </thead>\n  <tbody>\n    <tr>\n      <th>0</th>\n      <td>0</td>\n      <td>28</td>\n      <td>Clothing</td>\n      <td>5</td>\n      <td>1500.40</td>\n      <td>Credit Card</td>\n      <td>5/8/2022</td>\n      <td>Kanyon</td>\n    </tr>\n    <tr>\n      <th>1</th>\n      <td>1</td>\n      <td>21</td>\n      <td>Shoes</td>\n      <td>3</td>\n      <td>1800.51</td>\n      <td>Debit Card</td>\n      <td>12/12/2021</td>\n      <td>Forum Istanbul</td>\n    </tr>\n    <tr>\n      <th>2</th>\n      <td>1</td>\n      <td>20</td>\n      <td>Clothing</td>\n      <td>1</td>\n      <td>300.08</td>\n      <td>Cash</td>\n      <td>9/11/2021</td>\n      <td>Metrocity</td>\n    </tr>\n    <tr>\n      <th>3</th>\n      <td>0</td>\n      <td>66</td>\n      <td>Shoes</td>\n      <td>5</td>\n      <td>3000.85</td>\n      <td>Credit Card</td>\n      <td>16/05/2021</td>\n      <td>Metropol AVM</td>\n    </tr>\n    <tr>\n      <th>4</th>\n      <td>0</td>\n      <td>53</td>\n      <td>Books</td>\n      <td>4</td>\n      <td>60.60</td>\n      <td>Cash</td>\n      <td>24/10/2021</td>\n      <td>Kanyon</td>\n    </tr>\n    <tr>\n      <th>...</th>\n      <td>...</td>\n      <td>...</td>\n      <td>...</td>\n      <td>...</td>\n      <td>...</td>\n      <td>...</td>\n      <td>...</td>\n      <td>...</td>\n    </tr>\n    <tr>\n      <th>99452</th>\n      <td>0</td>\n      <td>45</td>\n      <td>Souvenir</td>\n      <td>5</td>\n      <td>58.65</td>\n      <td>Credit Card</td>\n      <td>21/09/2022</td>\n      <td>Kanyon</td>\n    </tr>\n    <tr>\n      <th>99453</th>\n      <td>1</td>\n      <td>27</td>\n      <td>Food &amp; Beverage</td>\n      <td>2</td>\n      <td>10.46</td>\n      <td>Cash</td>\n      <td>22/09/2021</td>\n      <td>Forum Istanbul</td>\n    </tr>\n    <tr>\n      <th>99454</th>\n      <td>1</td>\n      <td>63</td>\n      <td>Food &amp; Beverage</td>\n      <td>2</td>\n      <td>10.46</td>\n      <td>Debit Card</td>\n      <td>28/03/2021</td>\n      <td>Metrocity</td>\n    </tr>\n    <tr>\n      <th>99455</th>\n      <td>1</td>\n      <td>56</td>\n      <td>Technology</td>\n      <td>4</td>\n      <td>4200.00</td>\n      <td>Cash</td>\n      <td>16/03/2021</td>\n      <td>Istinye Park</td>\n    </tr>\n    <tr>\n      <th>99456</th>\n      <td>0</td>\n      <td>36</td>\n      <td>Souvenir</td>\n      <td>3</td>\n      <td>35.19</td>\n      <td>Credit Card</td>\n      <td>15/10/2022</td>\n      <td>Mall of Istanbul</td>\n    </tr>\n  </tbody>\n</table>\n<p>99457 rows × 8 columns</p>\n</div>"
     },
     "execution_count": 16,
     "metadata": {},
     "output_type": "execute_result"
    }
   ]
  },
  {
   "cell_type": "code",
   "source": [
    "dfCopyGenderPayment = dfCopyGender.copy()"
   ],
   "metadata": {
    "id": "Q0qCL-Igq7wS",
    "executionInfo": {
     "status": "ok",
     "timestamp": 1682874229084,
     "user_tz": -120,
     "elapsed": 125,
     "user": {
      "displayName": "Vincenzo Dimondo",
      "userId": "04023774400202034399"
     }
    }
   },
   "execution_count": 17,
   "outputs": []
  },
  {
   "cell_type": "code",
   "source": [
    "dfCopyGenderPayment['payment_method'].replace(['Credit Card', 'Debit Card', 'Cash'], [0, 0, 1], inplace=True)"
   ],
   "metadata": {
    "id": "F63ohFz4q7tB",
    "executionInfo": {
     "status": "ok",
     "timestamp": 1682874229084,
     "user_tz": -120,
     "elapsed": 124,
     "user": {
      "displayName": "Vincenzo Dimondo",
      "userId": "04023774400202034399"
     }
    }
   },
   "execution_count": 18,
   "outputs": []
  },
  {
   "cell_type": "code",
   "source": [
    "dfCopyGenderPayment"
   ],
   "metadata": {
    "id": "Zdfek4TFq7ep",
    "executionInfo": {
     "status": "ok",
     "timestamp": 1682874229085,
     "user_tz": -120,
     "elapsed": 125,
     "user": {
      "displayName": "Vincenzo Dimondo",
      "userId": "04023774400202034399"
     }
    },
    "colab": {
     "base_uri": "https://localhost:8080/",
     "height": 423
    },
    "outputId": "3bef56e9-f9dc-4deb-87bf-1ca53e388073"
   },
   "execution_count": 19,
   "outputs": [
    {
     "data": {
      "text/plain": "       gender  age         category  quantity    price  payment_method  \\\n0           0   28         Clothing         5  1500.40               0   \n1           1   21            Shoes         3  1800.51               0   \n2           1   20         Clothing         1   300.08               1   \n3           0   66            Shoes         5  3000.85               0   \n4           0   53            Books         4    60.60               1   \n...       ...  ...              ...       ...      ...             ...   \n99452       0   45         Souvenir         5    58.65               0   \n99453       1   27  Food & Beverage         2    10.46               1   \n99454       1   63  Food & Beverage         2    10.46               0   \n99455       1   56       Technology         4  4200.00               1   \n99456       0   36         Souvenir         3    35.19               0   \n\n      invoice_date     shopping_mall  \n0         5/8/2022            Kanyon  \n1       12/12/2021    Forum Istanbul  \n2        9/11/2021         Metrocity  \n3       16/05/2021      Metropol AVM  \n4       24/10/2021            Kanyon  \n...            ...               ...  \n99452   21/09/2022            Kanyon  \n99453   22/09/2021    Forum Istanbul  \n99454   28/03/2021         Metrocity  \n99455   16/03/2021      Istinye Park  \n99456   15/10/2022  Mall of Istanbul  \n\n[99457 rows x 8 columns]",
      "text/html": "<div>\n<style scoped>\n    .dataframe tbody tr th:only-of-type {\n        vertical-align: middle;\n    }\n\n    .dataframe tbody tr th {\n        vertical-align: top;\n    }\n\n    .dataframe thead th {\n        text-align: right;\n    }\n</style>\n<table border=\"1\" class=\"dataframe\">\n  <thead>\n    <tr style=\"text-align: right;\">\n      <th></th>\n      <th>gender</th>\n      <th>age</th>\n      <th>category</th>\n      <th>quantity</th>\n      <th>price</th>\n      <th>payment_method</th>\n      <th>invoice_date</th>\n      <th>shopping_mall</th>\n    </tr>\n  </thead>\n  <tbody>\n    <tr>\n      <th>0</th>\n      <td>0</td>\n      <td>28</td>\n      <td>Clothing</td>\n      <td>5</td>\n      <td>1500.40</td>\n      <td>0</td>\n      <td>5/8/2022</td>\n      <td>Kanyon</td>\n    </tr>\n    <tr>\n      <th>1</th>\n      <td>1</td>\n      <td>21</td>\n      <td>Shoes</td>\n      <td>3</td>\n      <td>1800.51</td>\n      <td>0</td>\n      <td>12/12/2021</td>\n      <td>Forum Istanbul</td>\n    </tr>\n    <tr>\n      <th>2</th>\n      <td>1</td>\n      <td>20</td>\n      <td>Clothing</td>\n      <td>1</td>\n      <td>300.08</td>\n      <td>1</td>\n      <td>9/11/2021</td>\n      <td>Metrocity</td>\n    </tr>\n    <tr>\n      <th>3</th>\n      <td>0</td>\n      <td>66</td>\n      <td>Shoes</td>\n      <td>5</td>\n      <td>3000.85</td>\n      <td>0</td>\n      <td>16/05/2021</td>\n      <td>Metropol AVM</td>\n    </tr>\n    <tr>\n      <th>4</th>\n      <td>0</td>\n      <td>53</td>\n      <td>Books</td>\n      <td>4</td>\n      <td>60.60</td>\n      <td>1</td>\n      <td>24/10/2021</td>\n      <td>Kanyon</td>\n    </tr>\n    <tr>\n      <th>...</th>\n      <td>...</td>\n      <td>...</td>\n      <td>...</td>\n      <td>...</td>\n      <td>...</td>\n      <td>...</td>\n      <td>...</td>\n      <td>...</td>\n    </tr>\n    <tr>\n      <th>99452</th>\n      <td>0</td>\n      <td>45</td>\n      <td>Souvenir</td>\n      <td>5</td>\n      <td>58.65</td>\n      <td>0</td>\n      <td>21/09/2022</td>\n      <td>Kanyon</td>\n    </tr>\n    <tr>\n      <th>99453</th>\n      <td>1</td>\n      <td>27</td>\n      <td>Food &amp; Beverage</td>\n      <td>2</td>\n      <td>10.46</td>\n      <td>1</td>\n      <td>22/09/2021</td>\n      <td>Forum Istanbul</td>\n    </tr>\n    <tr>\n      <th>99454</th>\n      <td>1</td>\n      <td>63</td>\n      <td>Food &amp; Beverage</td>\n      <td>2</td>\n      <td>10.46</td>\n      <td>0</td>\n      <td>28/03/2021</td>\n      <td>Metrocity</td>\n    </tr>\n    <tr>\n      <th>99455</th>\n      <td>1</td>\n      <td>56</td>\n      <td>Technology</td>\n      <td>4</td>\n      <td>4200.00</td>\n      <td>1</td>\n      <td>16/03/2021</td>\n      <td>Istinye Park</td>\n    </tr>\n    <tr>\n      <th>99456</th>\n      <td>0</td>\n      <td>36</td>\n      <td>Souvenir</td>\n      <td>3</td>\n      <td>35.19</td>\n      <td>0</td>\n      <td>15/10/2022</td>\n      <td>Mall of Istanbul</td>\n    </tr>\n  </tbody>\n</table>\n<p>99457 rows × 8 columns</p>\n</div>"
     },
     "execution_count": 19,
     "metadata": {},
     "output_type": "execute_result"
    }
   ]
  },
  {
   "cell_type": "markdown",
   "source": [
    "***Trasformazione della data***\n",
    "\n",
    "Trasformo le date dal formato gg/mm/aaaa in due nuove colonne che rappresenteranno il mese e l'anno."
   ],
   "metadata": {
    "id": "Tpwv2sX1KsTh"
   }
  },
  {
   "cell_type": "code",
   "source": [
    "df = dfCopyGenderPayment.copy()\n",
    "# Aggiungo la colonna \"month\" al dataframe\n",
    "df['month'] = df.invoice_date.str.split(\"/\", expand = True)[1]\n",
    "# Aggiungo la colonna \"year\" al dataframe\n",
    "df['year'] = df.invoice_date.str.split(\"/\", expand = True)[2]\n",
    "df['month'].replace(['1', '2', '3', '4', '5', '6', '7', '8', '9', '10', '11', '12'], [1, 2, 3, 4, 5, 6, 7, 8, 9, 10, 11, 12], inplace=True)\n",
    "df['month'].replace(['01', '02', '03', '04', '05', '06', '07', '08', '09', '10', '11', '12'], [1, 2, 3, 4, 5, 6, 7, 8, 9, 10, 11, 12], inplace=True)\n",
    "dfCopy = df.copy()\n",
    "dfCopy = dfCopy.drop(columns=['invoice_date'])\n",
    "dfCopy.head(20)\n",
    "fh = sb.countplot(x = dfCopy['month']).set_title('Acquisti per mese')\n"
   ],
   "metadata": {
    "id": "kiT_mTKsJdiP",
    "executionInfo": {
     "status": "ok",
     "timestamp": 1682874230552,
     "user_tz": -120,
     "elapsed": 1591,
     "user": {
      "displayName": "Vincenzo Dimondo",
      "userId": "04023774400202034399"
     }
    },
    "colab": {
     "base_uri": "https://localhost:8080/",
     "height": 472
    },
    "outputId": "03872755-f1aa-4968-b89c-1326426b3a47"
   },
   "execution_count": 20,
   "outputs": [
    {
     "data": {
      "text/plain": "<Figure size 640x480 with 1 Axes>",
      "image/png": "[encoded data removed]"
     },
     "metadata": {},
     "output_type": "display_data"
    }
   ]
  },
  {
   "cell_type": "code",
   "source": [
    "dfCopy.head()"
   ],
   "metadata": {
    "id": "t3laNCYmnofs",
    "executionInfo": {
     "status": "ok",
     "timestamp": 1682874230554,
     "user_tz": -120,
     "elapsed": 28,
     "user": {
      "displayName": "Vincenzo Dimondo",
      "userId": "04023774400202034399"
     }
    },
    "colab": {
     "base_uri": "https://localhost:8080/",
     "height": 206
    },
    "outputId": "ad1a7453-9633-42ec-885d-33c57e6287ef"
   },
   "execution_count": 21,
   "outputs": [
    {
     "data": {
      "text/plain": "   gender  age  category  quantity    price  payment_method   shopping_mall  \\\n0       0   28  Clothing         5  1500.40               0          Kanyon   \n1       1   21     Shoes         3  1800.51               0  Forum Istanbul   \n2       1   20  Clothing         1   300.08               1       Metrocity   \n3       0   66     Shoes         5  3000.85               0    Metropol AVM   \n4       0   53     Books         4    60.60               1          Kanyon   \n\n   month  year  \n0      8  2022  \n1     12  2021  \n2     11  2021  \n3      5  2021  \n4     10  2021  ",
      "text/html": "<div>\n<style scoped>\n    .dataframe tbody tr th:only-of-type {\n        vertical-align: middle;\n    }\n\n    .dataframe tbody tr th {\n        vertical-align: top;\n    }\n\n    .dataframe thead th {\n        text-align: right;\n    }\n</style>\n<table border=\"1\" class=\"dataframe\">\n  <thead>\n    <tr style=\"text-align: right;\">\n      <th></th>\n      <th>gender</th>\n      <th>age</th>\n      <th>category</th>\n      <th>quantity</th>\n      <th>price</th>\n      <th>payment_method</th>\n      <th>shopping_mall</th>\n      <th>month</th>\n      <th>year</th>\n    </tr>\n  </thead>\n  <tbody>\n    <tr>\n      <th>0</th>\n      <td>0</td>\n      <td>28</td>\n      <td>Clothing</td>\n      <td>5</td>\n      <td>1500.40</td>\n      <td>0</td>\n      <td>Kanyon</td>\n      <td>8</td>\n      <td>2022</td>\n    </tr>\n    <tr>\n      <th>1</th>\n      <td>1</td>\n      <td>21</td>\n      <td>Shoes</td>\n      <td>3</td>\n      <td>1800.51</td>\n      <td>0</td>\n      <td>Forum Istanbul</td>\n      <td>12</td>\n      <td>2021</td>\n    </tr>\n    <tr>\n      <th>2</th>\n      <td>1</td>\n      <td>20</td>\n      <td>Clothing</td>\n      <td>1</td>\n      <td>300.08</td>\n      <td>1</td>\n      <td>Metrocity</td>\n      <td>11</td>\n      <td>2021</td>\n    </tr>\n    <tr>\n      <th>3</th>\n      <td>0</td>\n      <td>66</td>\n      <td>Shoes</td>\n      <td>5</td>\n      <td>3000.85</td>\n      <td>0</td>\n      <td>Metropol AVM</td>\n      <td>5</td>\n      <td>2021</td>\n    </tr>\n    <tr>\n      <th>4</th>\n      <td>0</td>\n      <td>53</td>\n      <td>Books</td>\n      <td>4</td>\n      <td>60.60</td>\n      <td>1</td>\n      <td>Kanyon</td>\n      <td>10</td>\n      <td>2021</td>\n    </tr>\n  </tbody>\n</table>\n</div>"
     },
     "execution_count": 21,
     "metadata": {},
     "output_type": "execute_result"
    }
   ]
  },
  {
   "cell_type": "code",
   "source": [
    "plt.figure(figsize = (10,5))\n",
    "ax = sb.countplot(x = 'month', hue = 'payment_method', data = df)\n",
    "ax.set_xticklabels(ax.get_xticklabels(), rotation = 45, horizontalalignment ='right', fontsize=10)\n",
    "plt.title(\"Numero vendite diversificate per carta o contanti\", fontsize = 10)\n",
    "legend_handles, _= ax.get_legend_handles_labels()\n",
    "ax.legend(legend_handles, ['Cards','Cash'], bbox_to_anchor=(1,1))\n",
    "for bars in ax.containers:\n",
    "  ax.bar_label(bars, fontsize=7)\n",
    "  \n",
    "plt.show()"
   ],
   "metadata": {
    "colab": {
     "base_uri": "https://localhost:8080/",
     "height": 493
    },
    "id": "enfujSm1OFKX",
    "executionInfo": {
     "status": "ok",
     "timestamp": 1682874230555,
     "user_tz": -120,
     "elapsed": 22,
     "user": {
      "displayName": "Vincenzo Dimondo",
      "userId": "04023774400202034399"
     }
    },
    "outputId": "84ea1ca9-15cd-430a-c179-bc4bd685cc27"
   },
   "execution_count": 22,
   "outputs": [
    {
     "data": {
      "text/plain": "<Figure size 1000x500 with 1 Axes>",
      "image/png": "[encoded data removed]"
     },
     "metadata": {},
     "output_type": "display_data"
    }
   ]
  },
  {
   "cell_type": "code",
   "source": [
    "dfSplitAge = df.copy()\n",
    "dfSplitAge['age'].replace(\n",
    "    [18, 19, 20, 21, \n",
    "     22, 23, 24, 25, \n",
    "     26, 27, 28, 29, \n",
    "     30, 31, 32, 33, \n",
    "     34, 35, 36, 37, \n",
    "     38, 39, 40, 41, \n",
    "     42, 43, 44, 45, \n",
    "     46, 47, 48, 49, \n",
    "     50, 51, 52, 53, \n",
    "     54, 55, 56, 57, \n",
    "     58, 59, 60, 61, \n",
    "     62, 63, 64, 65, \n",
    "     66, 67, 68, 69], \n",
    "    [18.21, 18.21, 18.21, 18.21,    \n",
    "     22.25, 22.25, 22.25, 22.25, \n",
    "     26.29, 26.29, 26.29, 26.29,\n",
    "     30.33, 30.33, 30.33, 30.33,\n",
    "     34.37, 34.37, 34.37, 34.37,\n",
    "     38.41, 38.41, 38.41, 38.41,\n",
    "     42.45, 42.45, 42.45, 42.45, \n",
    "     46.49, 46.49, 46.49, 46.49,  \n",
    "     50.53, 50.53, 50.53, 50.53,\n",
    "     54.57, 54.57, 54.57, 54.57,\n",
    "     58.61, 58.61, 58.61, 58.61, \n",
    "     62.65, 62.65, 62.65, 62.65,\n",
    "     66.69, 66.69, 66.69, 66.69], inplace=True)\n",
    "\n",
    "labels = ['18-21', '22-25', '26-29', '30-33', '34-37', '39-41', '42-45', '46-49', '50-53', '54-57', '58-61', '62-65', '66-69'] \n",
    "ccd = sb.countplot(y = dfSplitAge['age']).set_yticklabels(labels)"
   ],
   "metadata": {
    "id": "ofCLdb0kWEQg",
    "executionInfo": {
     "status": "ok",
     "timestamp": 1682874230847,
     "user_tz": -120,
     "elapsed": 309,
     "user": {
      "displayName": "Vincenzo Dimondo",
      "userId": "04023774400202034399"
     }
    },
    "colab": {
     "base_uri": "https://localhost:8080/",
     "height": 449
    },
    "outputId": "c472c883-8485-4667-81b7-da064ea8406f"
   },
   "execution_count": 23,
   "outputs": [
    {
     "data": {
      "text/plain": "<Figure size 640x480 with 1 Axes>",
      "image/png": "[encoded data removed]"
     },
     "metadata": {},
     "output_type": "display_data"
    }
   ]
  },
  {
   "cell_type": "markdown",
   "source": [
    "Trasformo le categorie da stringhe in dati numerici e mostro come variano in base all'età le abitudini di acquisto"
   ],
   "metadata": {
    "id": "_CBKdy0Yv0_V"
   }
  },
  {
   "cell_type": "code",
   "source": [
    "dfCategories = dfCopy.copy()\n",
    "dfCategories['category'].replace(['Clothing', 'Cosmetics', 'Food & Beverage', 'Toys', 'Shoes', 'Souvenir', 'Technology', 'Books'], [1,2,3,4,5,6,7,8], inplace=True)\n",
    "dfCatGen = dfCategories.copy()\n",
    "dfCatGen.head()\n",
    "# dfCatGen.drop(columns=['shopping_mall'])\n",
    "#x = 1\n",
    "#while(x<=12):\n",
    "#  dfCatMese = dfCatGen[dfCatGen['month']==x]\n",
    "#  sb.lmplot(data=dfCatMese, x=\"age\", y=\"price\", hue=\"category\")\n",
    "#  x+=1\n",
    "# sb.residplot(data=dfCatGen, x='price', y='category', lowess=True, line_kws=dict(color=\"r\"))\n",
    "# fig = plt.subplots(figsize=(5,5))\n",
    "# g = sb.FacetGrid(dfCatGen, col=\"category\",  row=\"age\")\n",
    "# g.map(sb.scatterplot, x=\"total_bill\")\n",
    "#g.map(sb.scatterplot, \"age\", \"category\")\n",
    "#p.set_title(\"numero di acquisti in base all'età\")\n",
    "#p.add(sb.Path())"
   ],
   "metadata": {
    "id": "8z3WFcU8syJK",
    "executionInfo": {
     "status": "ok",
     "timestamp": 1682874967236,
     "user_tz": -120,
     "elapsed": 33395,
     "user": {
      "displayName": "Vincenzo Dimondo",
      "userId": "04023774400202034399"
     }
    },
    "colab": {
     "base_uri": "https://localhost:8080/",
     "height": 1000
    },
    "outputId": "e2572204-b3bb-4495-e9b2-12e6eca62f10"
   },
   "execution_count": 24,
   "outputs": [
    {
     "data": {
      "text/plain": "   gender  age  category  quantity    price  payment_method   shopping_mall  \\\n0       0   28         1         5  1500.40               0          Kanyon   \n1       1   21         5         3  1800.51               0  Forum Istanbul   \n2       1   20         1         1   300.08               1       Metrocity   \n3       0   66         5         5  3000.85               0    Metropol AVM   \n4       0   53         8         4    60.60               1          Kanyon   \n\n   month  year  \n0      8  2022  \n1     12  2021  \n2     11  2021  \n3      5  2021  \n4     10  2021  ",
      "text/html": "<div>\n<style scoped>\n    .dataframe tbody tr th:only-of-type {\n        vertical-align: middle;\n    }\n\n    .dataframe tbody tr th {\n        vertical-align: top;\n    }\n\n    .dataframe thead th {\n        text-align: right;\n    }\n</style>\n<table border=\"1\" class=\"dataframe\">\n  <thead>\n    <tr style=\"text-align: right;\">\n      <th></th>\n      <th>gender</th>\n      <th>age</th>\n      <th>category</th>\n      <th>quantity</th>\n      <th>price</th>\n      <th>payment_method</th>\n      <th>shopping_mall</th>\n      <th>month</th>\n      <th>year</th>\n    </tr>\n  </thead>\n  <tbody>\n    <tr>\n      <th>0</th>\n      <td>0</td>\n      <td>28</td>\n      <td>1</td>\n      <td>5</td>\n      <td>1500.40</td>\n      <td>0</td>\n      <td>Kanyon</td>\n      <td>8</td>\n      <td>2022</td>\n    </tr>\n    <tr>\n      <th>1</th>\n      <td>1</td>\n      <td>21</td>\n      <td>5</td>\n      <td>3</td>\n      <td>1800.51</td>\n      <td>0</td>\n      <td>Forum Istanbul</td>\n      <td>12</td>\n      <td>2021</td>\n    </tr>\n    <tr>\n      <th>2</th>\n      <td>1</td>\n      <td>20</td>\n      <td>1</td>\n      <td>1</td>\n      <td>300.08</td>\n      <td>1</td>\n      <td>Metrocity</td>\n      <td>11</td>\n      <td>2021</td>\n    </tr>\n    <tr>\n      <th>3</th>\n      <td>0</td>\n      <td>66</td>\n      <td>5</td>\n      <td>5</td>\n      <td>3000.85</td>\n      <td>0</td>\n      <td>Metropol AVM</td>\n      <td>5</td>\n      <td>2021</td>\n    </tr>\n    <tr>\n      <th>4</th>\n      <td>0</td>\n      <td>53</td>\n      <td>8</td>\n      <td>4</td>\n      <td>60.60</td>\n      <td>1</td>\n      <td>Kanyon</td>\n      <td>10</td>\n      <td>2021</td>\n    </tr>\n  </tbody>\n</table>\n</div>"
     },
     "execution_count": 24,
     "metadata": {},
     "output_type": "execute_result"
    }
   ]
  },
  {
   "cell_type": "code",
   "source": [],
   "metadata": {
    "id": "c96zaw6ryHpF",
    "executionInfo": {
     "status": "ok",
     "timestamp": 1682874309900,
     "user_tz": -120,
     "elapsed": 415,
     "user": {
      "displayName": "Vincenzo Dimondo",
      "userId": "04023774400202034399"
     }
    }
   },
   "execution_count": 24,
   "outputs": []
  }
 ]
}
