{
 "nbformat": 4,
 "nbformat_minor": 0,
 "metadata": {
  "colab": {
   "provenance": []
  },
  "kernelspec": {
   "name": "python3",
   "display_name": "Python 3"
  },
  "language_info": {
   "name": "python"
  },
  "accelerator": "TPU",
  "gpuClass": "standard"
 },
 "cells": [
  {
   "cell_type": "markdown",
   "source": [
    "_______________________________________________________________________________\n",
    "***Progetto Data Mining***"
   ],
   "metadata": {
    "id": "8vNHateaA2ku",
    "pycharm": {
     "name": "#%% md\n"
    }
   }
  },
  {
   "cell_type": "markdown",
   "source": [],
   "metadata": {
    "collapsed": false,
    "pycharm": {
     "name": "#%% md\n"
    }
   }
  },
  {
   "cell_type": "markdown",
   "source": [
    "# Informazioni sul set di dati <br>\n",
    "## Contesto <br>\n",
    "Benvenuti nel mondo dello shopping di Istanbul! <br>\n",
    "Il nostro set di dati contiene informazioni sugli acquisti da 10 diversi centri commerciali tra il 2021 e il 2023. <br>\n",
    "Abbiamo raccolto dati da vari gruppi di età e sessi per fornire una visione completa delle abitudini di acquisto a Istanbul. <br>\n",
    "Il set di dati include informazioni essenziali come numeri di fattura, ID cliente, età, sesso, metodi di pagamento, categorie di prodotti, quantità, prezzo, date degli ordini e posizioni dei centri commerciali. <br>\n",
    "Ci auguriamo che questo set di dati funga da risorsa preziosa per ricercatori, analisti di dati e appassionati di machine learning che desiderano ottenere informazioni sulle tendenze e sui modelli di acquisto a Istanbul. <br>\n",
    "Esplora il set di dati e scopri l'affascinante mondo dello shopping di Istanbul! <br>\n",
    "## Contenuto <br>\n",
    "###*Informazioni sugli attributi*: <br>\n",
    "***invoice_no***: numero della fattura. Nominale. Una combinazione della lettera \"I\" e di un numero intero di 6 cifre assegnato in modo univoco a ciascuna operazione. <br>\n",
    "***customer_id***: numero cliente. Nominale. Una combinazione della lettera \"C\" e di un numero intero di 6 cifre assegnato in modo univoco a ciascuna operazione. <br>\n",
    "***gender***: variabile stringa del sesso del cliente. <br>\n",
    "***age***: Variabile intera positiva dell'età del cliente. <br>\n",
    "***category***: Variabile stringa della categoria del prodotto acquistato. <br>\n",
    "***quantity***: le quantità di ciascun prodotto (articolo) per transazione. Numerico. <br>\n",
    "***price***: Prezzo unitario. Numerico. Prezzo del prodotto per unità in lire turche (TL). <br>\n",
    "***payment_method***: Variabile stringa del metodo di pagamento (contanti, carta di credito o bancomat) utilizzato per la transazione. <br>\n",
    "***invoice_date***: data della fattura. Il giorno in cui è stata generata una transazione. <br>\n",
    "***shopping_mall***: Variabile stringa del nome del centro commerciale dove è stata effettuata la transazione. <br>"
   ],
   "metadata": {
    "id": "Shm5uyPsA-FE",
    "pycharm": {
     "name": "#%% md\n"
    }
   }
  },
  {
   "cell_type": "code",
   "source": [
    "from pandas import DataFrame, Series\n",
    "from io import StringIO \n",
    "import pandas as pd\n",
    "import numpy as np\n",
    "import os\n",
    "import matplotlib\n",
    "import matplotlib.pyplot as plt\n",
    "import plotly.express as px\n",
    "from IPython.display import Image\n",
    "import seaborn as sb \n",
    "import statistics as stat\n",
    "import time\n",
    "import math\n",
    "from sklearn.metrics import *"
   ],
   "metadata": {
    "id": "8FYdwdqsA6rP",
    "executionInfo": {
     "status": "ok",
     "timestamp": 1682874225881,
     "user_tz": -120,
     "elapsed": 436,
     "user": {
      "displayName": "Vincenzo Dimondo",
      "userId": "04023774400202034399"
     }
    },
    "pycharm": {
     "name": "#%%\n",
     "is_executing": true
    }
   },
   "execution_count": null,
   "outputs": []
  },
  {
   "cell_type": "code",
   "source": [
    "from sklearn.preprocessing import LabelEncoder\n",
    "from sklearn.preprocessing import OneHotEncoder\n",
    "from sklearn.model_selection import train_test_split\n",
    "from imblearn.over_sampling import RandomOverSampler\n",
    "from sklearn.metrics import * \n",
    "from sklearn.model_selection import cross_val_score\n",
    "from sklearn.tree import DecisionTreeClassifier\n",
    "from sklearn.linear_model import SGDClassifier\n",
    "from sklearn.neighbors import KNeighborsClassifier\n",
    "from sklearn.naive_bayes import GaussianNB\n",
    "from sklearn.linear_model import LogisticRegression\n",
    "from sklearn.neural_network import MLPClassifier\n",
    "from sklearn.experimental import enable_halving_search_cv \n",
    "from sklearn.model_selection import HalvingGridSearchCV\n",
    "from sklearn.ensemble import VotingClassifier\n",
    "from sklearn.ensemble import RandomForestClassifier\n",
    "from sklearn import metrics\n",
    "from sklearn.preprocessing import OrdinalEncoder\n",
    "from imblearn.over_sampling import SMOTE\n"
   ],
   "metadata": {
    "id": "WM-rEmY56zai",
    "executionInfo": {
     "status": "ok",
     "timestamp": 1682874226157,
     "user_tz": -120,
     "elapsed": 8,
     "user": {
      "displayName": "Vincenzo Dimondo",
      "userId": "04023774400202034399"
     }
    },
    "pycharm": {
     "name": "#%%\n",
     "is_executing": true
    }
   },
   "execution_count": null,
   "outputs": []
  },
  {
   "cell_type": "code",
   "source": [
    "def describe(a):\n",
    "    if type(a) is np.ndarray:\n",
    "        print(\"data:\\n{}\\nshape:{}\\ndtype:{}\\ntype: {}\".format(a, a.shape, a.dtype, type(a)))\n",
    "    elif type(a) is pd.Series:\n",
    "        print(\"data:\\n{}\\nshape:{}\\ndtype:{}\\nname:{}\\nindex-name:{}\\ntype:{}\".format(a, a.shape, a.dtype, a.name, a.index.name, type(a)))\n",
    "    elif type(a) is pd.DataFrame:\n",
    "        print(\"data:\\n{}\\nshape:{}\\ntype:{}\".format(a, a.shape,type(a)))\n",
    "    else:\n",
    "        print(\"{}, type:{}\".format(a, type(a)))"
   ],
   "metadata": {
    "id": "BiXFx8XJ6uuh",
    "executionInfo": {
     "status": "ok",
     "timestamp": 1682874226159,
     "user_tz": -120,
     "elapsed": 9,
     "user": {
      "displayName": "Vincenzo Dimondo",
      "userId": "04023774400202034399"
     }
    },
    "pycharm": {
     "name": "#%%\n",
     "is_executing": true
    }
   },
   "execution_count": null,
   "outputs": []
  },
  {
   "cell_type": "code",
   "source": [
    "#from google.colab import drive\n",
    "#drive.mount('/content/drive')"
   ],
   "metadata": {
    "colab": {
     "base_uri": "https://localhost:8080/"
    },
    "id": "bdLNawhZDLyA",
    "executionInfo": {
     "status": "ok",
     "timestamp": 1682874228176,
     "user_tz": -120,
     "elapsed": 2026,
     "user": {
      "displayName": "Vincenzo Dimondo",
      "userId": "04023774400202034399"
     }
    },
    "outputId": "d000bb61-e2b8-4d5e-91d7-014ccfa7dfc9",
    "pycharm": {
     "name": "#%%\n",
     "is_executing": true
    }
   },
   "execution_count": null,
   "outputs": []
  },
  {
   "cell_type": "code",
   "source": [
    "#dataFrameShopping = pd.read_csv(\"/content/drive/MyDrive/customer_shopping_data.csv\")\n",
    "dataFrameShopping = pd.read_csv(\"content/drive/MyDrive/customer_shopping_data.csv\")"
   ],
   "metadata": {
    "id": "Tv4y3JU0DQXg",
    "executionInfo": {
     "status": "ok",
     "timestamp": 1682874228178,
     "user_tz": -120,
     "elapsed": 106,
     "user": {
      "displayName": "Vincenzo Dimondo",
      "userId": "04023774400202034399"
     }
    },
    "pycharm": {
     "name": "#%%\n",
     "is_executing": true
    }
   },
   "execution_count": null,
   "outputs": []
  },
  {
   "cell_type": "code",
   "source": [
    "dataFrameShopping.shape"
   ],
   "metadata": {
    "colab": {
     "base_uri": "https://localhost:8080/"
    },
    "id": "GTUp5X2vGUNT",
    "executionInfo": {
     "status": "ok",
     "timestamp": 1682874228180,
     "user_tz": -120,
     "elapsed": 106,
     "user": {
      "displayName": "Vincenzo Dimondo",
      "userId": "04023774400202034399"
     }
    },
    "outputId": "56b52c38-d432-4dd9-fc21-c87988bf88b6",
    "pycharm": {
     "name": "#%%\n",
     "is_executing": true
    }
   },
   "execution_count": null,
   "outputs": []
  },
  {
   "cell_type": "code",
   "source": [
    "dataFrameShopping.sample(frac=1).head(20)"
   ],
   "metadata": {
    "id": "cDR9b4gWGoZG",
    "executionInfo": {
     "status": "ok",
     "timestamp": 1682874228180,
     "user_tz": -120,
     "elapsed": 27,
     "user": {
      "displayName": "Vincenzo Dimondo",
      "userId": "04023774400202034399"
     }
    },
    "colab": {
     "base_uri": "https://localhost:8080/",
     "height": 676
    },
    "outputId": "9d9d36c0-05b3-44e4-965b-5d4c24f544b9",
    "pycharm": {
     "name": "#%%\n",
     "is_executing": true
    }
   },
   "execution_count": null,
   "outputs": []
  },
  {
   "cell_type": "code",
   "source": [
    "dataFrameShopping.info()"
   ],
   "metadata": {
    "id": "1SCuEUnXHDZG",
    "executionInfo": {
     "status": "ok",
     "timestamp": 1682874229032,
     "user_tz": -120,
     "elapsed": 875,
     "user": {
      "displayName": "Vincenzo Dimondo",
      "userId": "04023774400202034399"
     }
    },
    "colab": {
     "base_uri": "https://localhost:8080/"
    },
    "outputId": "9e4fc4eb-29dc-4c72-dc1f-2ee4014dcf58",
    "pycharm": {
     "name": "#%%\n",
     "is_executing": true
    }
   },
   "execution_count": null,
   "outputs": []
  },
  {
   "cell_type": "code",
   "source": [
    "dataFrameShopping.describe()"
   ],
   "metadata": {
    "id": "uRJ9nloVFIsD",
    "executionInfo": {
     "status": "ok",
     "timestamp": 1682874229077,
     "user_tz": -120,
     "elapsed": 132,
     "user": {
      "displayName": "Vincenzo Dimondo",
      "userId": "04023774400202034399"
     }
    },
    "colab": {
     "base_uri": "https://localhost:8080/",
     "height": 300
    },
    "outputId": "e00ad7d1-4dd4-40b0-a7ae-2c0d7488db61",
    "pycharm": {
     "name": "#%%\n",
     "is_executing": true
    }
   },
   "execution_count": null,
   "outputs": []
  },
  {
   "cell_type": "code",
   "source": [
    "dataFrameShopping.duplicated().value_counts()"
   ],
   "metadata": {
    "id": "JjfqBlxKHmLe",
    "executionInfo": {
     "status": "ok",
     "timestamp": 1682874229078,
     "user_tz": -120,
     "elapsed": 131,
     "user": {
      "displayName": "Vincenzo Dimondo",
      "userId": "04023774400202034399"
     }
    },
    "colab": {
     "base_uri": "https://localhost:8080/"
    },
    "outputId": "feaaa6f9-d069-48b1-a856-f29ac2b2062d",
    "pycharm": {
     "name": "#%%\n",
     "is_executing": true
    }
   },
   "execution_count": null,
   "outputs": []
  },
  {
   "cell_type": "markdown",
   "source": [
    "Dal dataset non risulta alcuna colonna contenene valori NULL, per cui si procede con il pre-processing del dataset."
   ],
   "metadata": {
    "id": "7dAhHVL8DRKS",
    "pycharm": {
     "name": "#%% md\n"
    }
   }
  },
  {
   "cell_type": "markdown",
   "source": [
    "***PRE-PROCESSING***"
   ],
   "metadata": {
    "id": "wiv6ft6nDmTM",
    "pycharm": {
     "name": "#%% md\n"
    }
   }
  },
  {
   "cell_type": "markdown",
   "source": [
    "Il primo passo del pre-processing consiste nel creare una copia del dataset, su cui andiamo a fare le modifiche. Queste mmodifiche rappresentano nell'eliminare le prime due colonne, ovvero l'ID della fattura e l'ID del cliente."
   ],
   "metadata": {
    "id": "c9AOahepFHk1",
    "pycharm": {
     "name": "#%% md\n"
    }
   }
  },
  {
   "cell_type": "code",
   "source": [
    "dfCopy = dataFrameShopping.copy()"
   ],
   "metadata": {
    "id": "b4ZCrHEdGROH",
    "executionInfo": {
     "status": "ok",
     "timestamp": 1682874229079,
     "user_tz": -120,
     "elapsed": 128,
     "user": {
      "displayName": "Vincenzo Dimondo",
      "userId": "04023774400202034399"
     }
    },
    "pycharm": {
     "name": "#%%\n",
     "is_executing": true
    }
   },
   "execution_count": null,
   "outputs": []
  },
  {
   "cell_type": "code",
   "source": [
    "dfCopy.head()"
   ],
   "metadata": {
    "id": "3r6ifhMxGbLo",
    "executionInfo": {
     "status": "ok",
     "timestamp": 1682874229080,
     "user_tz": -120,
     "elapsed": 128,
     "user": {
      "displayName": "Vincenzo Dimondo",
      "userId": "04023774400202034399"
     }
    },
    "colab": {
     "base_uri": "https://localhost:8080/",
     "height": 206
    },
    "outputId": "2b269828-5659-41e0-fa10-c6b4ba96b7bb",
    "pycharm": {
     "name": "#%%\n",
     "is_executing": true
    }
   },
   "execution_count": null,
   "outputs": []
  },
  {
   "cell_type": "code",
   "source": [
    "dfCopy = dfCopy.drop(columns=['invoice_no','customer_id'])"
   ],
   "metadata": {
    "id": "vV53DydtGbHf",
    "executionInfo": {
     "status": "ok",
     "timestamp": 1682874229081,
     "user_tz": -120,
     "elapsed": 128,
     "user": {
      "displayName": "Vincenzo Dimondo",
      "userId": "04023774400202034399"
     }
    },
    "pycharm": {
     "name": "#%%\n",
     "is_executing": true
    }
   },
   "execution_count": null,
   "outputs": []
  },
  {
   "cell_type": "markdown",
   "source": [
    "A questo punto andiamo a mappare le stringhe con valori interi.\n",
    "\n",
    "Per la colonna relativa al genere la andiamo a mappare con il valore binario 0/1, in cui il valore 0 rapprensenta 'Female' e il valore 1 'Male', mentre sostituiamo 0 alle colonne contenenti il valore \"Credit Card\" e \"Debit card\" e 1 a quelle contenenti \"Cash\""
   ],
   "metadata": {
    "id": "H3QRN7p7G2Pe",
    "pycharm": {
     "name": "#%% md\n"
    }
   }
  },
  {
   "cell_type": "code",
   "source": [
    "dfCopyGender = dfCopy.copy()\n",
    "dfCopyGender.head()"
   ],
   "metadata": {
    "id": "aEkENVHmGbBg",
    "executionInfo": {
     "status": "ok",
     "timestamp": 1682874229081,
     "user_tz": -120,
     "elapsed": 128,
     "user": {
      "displayName": "Vincenzo Dimondo",
      "userId": "04023774400202034399"
     }
    },
    "colab": {
     "base_uri": "https://localhost:8080/",
     "height": 206
    },
    "outputId": "3c2673c3-1985-44f4-a59c-77408b9073cd",
    "pycharm": {
     "name": "#%%\n",
     "is_executing": true
    }
   },
   "execution_count": null,
   "outputs": []
  },
  {
   "cell_type": "code",
   "source": [
    "dfCopyGender['gender'].replace(['Female', 'Male'], [0,1], inplace=True)"
   ],
   "metadata": {
    "id": "sAY0RVosGbEg",
    "executionInfo": {
     "status": "ok",
     "timestamp": 1682874229082,
     "user_tz": -120,
     "elapsed": 125,
     "user": {
      "displayName": "Vincenzo Dimondo",
      "userId": "04023774400202034399"
     }
    },
    "pycharm": {
     "name": "#%%\n",
     "is_executing": true
    }
   },
   "execution_count": null,
   "outputs": []
  },
  {
   "cell_type": "code",
   "source": [
    "dfCopyGender"
   ],
   "metadata": {
    "id": "_XfylZynZocK",
    "executionInfo": {
     "status": "ok",
     "timestamp": 1682874229083,
     "user_tz": -120,
     "elapsed": 125,
     "user": {
      "displayName": "Vincenzo Dimondo",
      "userId": "04023774400202034399"
     }
    },
    "colab": {
     "base_uri": "https://localhost:8080/",
     "height": 423
    },
    "outputId": "10fec160-d78e-4d38-bdbe-45c3397712f7",
    "pycharm": {
     "name": "#%%\n",
     "is_executing": true
    }
   },
   "execution_count": null,
   "outputs": []
  },
  {
   "cell_type": "code",
   "source": [
    "dfCopyGenderPayment = dfCopyGender.copy()"
   ],
   "metadata": {
    "id": "Q0qCL-Igq7wS",
    "executionInfo": {
     "status": "ok",
     "timestamp": 1682874229084,
     "user_tz": -120,
     "elapsed": 125,
     "user": {
      "displayName": "Vincenzo Dimondo",
      "userId": "04023774400202034399"
     }
    },
    "pycharm": {
     "name": "#%%\n",
     "is_executing": true
    }
   },
   "execution_count": null,
   "outputs": []
  },
  {
   "cell_type": "code",
   "source": [
    "dfCopyGenderPayment['payment_method'].replace(['Credit Card', 'Debit Card', 'Cash'], [0, 0, 1], inplace=True)"
   ],
   "metadata": {
    "id": "F63ohFz4q7tB",
    "executionInfo": {
     "status": "ok",
     "timestamp": 1682874229084,
     "user_tz": -120,
     "elapsed": 124,
     "user": {
      "displayName": "Vincenzo Dimondo",
      "userId": "04023774400202034399"
     }
    },
    "pycharm": {
     "name": "#%%\n",
     "is_executing": true
    }
   },
   "execution_count": null,
   "outputs": []
  },
  {
   "cell_type": "code",
   "source": [
    "dfCopyGenderPayment"
   ],
   "metadata": {
    "id": "Zdfek4TFq7ep",
    "executionInfo": {
     "status": "ok",
     "timestamp": 1682874229085,
     "user_tz": -120,
     "elapsed": 125,
     "user": {
      "displayName": "Vincenzo Dimondo",
      "userId": "04023774400202034399"
     }
    },
    "colab": {
     "base_uri": "https://localhost:8080/",
     "height": 423
    },
    "outputId": "3bef56e9-f9dc-4deb-87bf-1ca53e388073",
    "pycharm": {
     "name": "#%%\n",
     "is_executing": true
    }
   },
   "execution_count": null,
   "outputs": []
  },
  {
   "cell_type": "markdown",
   "source": [
    "***Trasformazione della data***\n",
    "\n",
    "Trasformo le date dal formato gg/mm/aaaa in due nuove colonne che rappresenteranno il mese e l'anno."
   ],
   "metadata": {
    "id": "Tpwv2sX1KsTh",
    "pycharm": {
     "name": "#%% md\n"
    }
   }
  },
  {
   "cell_type": "code",
   "source": [
    "df = dfCopyGenderPayment.copy()\n",
    "# Aggiungo la colonna \"month\" al dataframe\n",
    "df['month'] = df.invoice_date.str.split(\"/\", expand = True)[1]\n",
    "# Aggiungo la colonna \"year\" al dataframe\n",
    "df['year'] = df.invoice_date.str.split(\"/\", expand = True)[2]\n",
    "df['year'].replace(['2021','2022','2023'], [2021,2022,2023], inplace=True)\n",
    "df['month'].replace(['1', '2', '3', '4', '5', '6', '7', '8', '9', '10', '11', '12'], [1, 2, 3, 4, 5, 6, 7, 8, 9, 10, 11, 12], inplace=True)\n",
    "df['month'].replace(['01', '02', '03', '04', '05', '06', '07', '08', '09', '10', '11', '12'], [1, 2, 3, 4, 5, 6, 7, 8, 9, 10, 11, 12], inplace=True)\n",
    "dfCopy = df.copy()\n",
    "dfCopy = dfCopy.drop(columns=['invoice_date'])\n",
    "dfCopy.head(20)\n",
    "fh = sb.countplot(x = dfCopy['month']).set_title('Acquisti per mese')"
   ],
   "metadata": {
    "id": "kiT_mTKsJdiP",
    "executionInfo": {
     "status": "ok",
     "timestamp": 1682874230552,
     "user_tz": -120,
     "elapsed": 1591,
     "user": {
      "displayName": "Vincenzo Dimondo",
      "userId": "04023774400202034399"
     }
    },
    "colab": {
     "base_uri": "https://localhost:8080/",
     "height": 472
    },
    "outputId": "03872755-f1aa-4968-b89c-1326426b3a47",
    "pycharm": {
     "name": "#%%\n",
     "is_executing": true
    }
   },
   "execution_count": null,
   "outputs": []
  },
  {
   "cell_type": "code",
   "source": [
    "dfCopy.head()"
   ],
   "metadata": {
    "id": "t3laNCYmnofs",
    "executionInfo": {
     "status": "ok",
     "timestamp": 1682874230554,
     "user_tz": -120,
     "elapsed": 28,
     "user": {
      "displayName": "Vincenzo Dimondo",
      "userId": "04023774400202034399"
     }
    },
    "colab": {
     "base_uri": "https://localhost:8080/",
     "height": 206
    },
    "outputId": "ad1a7453-9633-42ec-885d-33c57e6287ef",
    "pycharm": {
     "name": "#%%\n",
     "is_executing": true
    }
   },
   "execution_count": null,
   "outputs": []
  },
  {
   "cell_type": "markdown",
   "source": [
    "Mostriamo il numero di vendite compiute per carte di credito e quello per contanti"
   ],
   "metadata": {
    "collapsed": false,
    "pycharm": {
     "name": "#%% md\n"
    }
   }
  },
  {
   "cell_type": "code",
   "execution_count": null,
   "outputs": [],
   "source": [
    "plt.figure(figsize = (10,5))\n",
    "ax = sb.countplot(x = 'month', hue = 'payment_method', data = dfCopy)\n",
    "ax.set_xticklabels(ax.get_xticklabels(), rotation = 45, horizontalalignment ='right', fontsize=10)\n",
    "plt.title(\"Numero vendite diversificate per carta o contanti\", fontsize = 10)\n",
    "legend_handles, _= ax.get_legend_handles_labels()\n",
    "ax.legend(legend_handles, ['Cards','Cash'], bbox_to_anchor=(1,1))\n",
    "for bars in ax.containers:\n",
    "  ax.bar_label(bars, fontsize=7)\n",
    "\n",
    "plt.show()"
   ],
   "metadata": {
    "collapsed": false,
    "pycharm": {
     "name": "#%%\n",
     "is_executing": true
    }
   }
  },
  {
   "cell_type": "code",
   "source": [
    "dfSplitAge = dfCopy.copy()\n",
    "dfSplitAge['age'].replace(\n",
    "    [18, 19, 20, 21, \n",
    "     22, 23, 24, 25, \n",
    "     26, 27, 28, 29, \n",
    "     30, 31, 32, 33, \n",
    "     34, 35, 36, 37, \n",
    "     38, 39, 40, 41, \n",
    "     42, 43, 44, 45, \n",
    "     46, 47, 48, 49, \n",
    "     50, 51, 52, 53, \n",
    "     54, 55, 56, 57, \n",
    "     58, 59, 60, 61, \n",
    "     62, 63, 64, 65, \n",
    "     66, 67, 68, 69], \n",
    "    [18.21, 18.21, 18.21, 18.21,    \n",
    "     22.25, 22.25, 22.25, 22.25, \n",
    "     26.29, 26.29, 26.29, 26.29,\n",
    "     30.33, 30.33, 30.33, 30.33,\n",
    "     34.37, 34.37, 34.37, 34.37,\n",
    "     38.41, 38.41, 38.41, 38.41,\n",
    "     42.45, 42.45, 42.45, 42.45, \n",
    "     46.49, 46.49, 46.49, 46.49,  \n",
    "     50.53, 50.53, 50.53, 50.53,\n",
    "     54.57, 54.57, 54.57, 54.57,\n",
    "     58.61, 58.61, 58.61, 58.61, \n",
    "     62.65, 62.65, 62.65, 62.65,\n",
    "     66.69, 66.69, 66.69, 66.69], inplace=True)\n",
    "\n",
    "#labels = ['18-21', '22-25', '26-29', '30-33', '34-37', '39-41', '42-45', '46-49', '50-53', '54-57', '58-61', '62-65', '66-69']\n",
    "#ccd = sb.countplot(y = dfSplitAge['age']).set_yticklabels(labels)\n",
    "dfSplitAge.head()\n"
   ],
   "metadata": {
    "id": "ofCLdb0kWEQg",
    "executionInfo": {
     "status": "ok",
     "timestamp": 1682874230847,
     "user_tz": -120,
     "elapsed": 309,
     "user": {
      "displayName": "Vincenzo Dimondo",
      "userId": "04023774400202034399"
     }
    },
    "colab": {
     "base_uri": "https://localhost:8080/",
     "height": 449
    },
    "outputId": "c472c883-8485-4667-81b7-da064ea8406f",
    "pycharm": {
     "name": "#%%\n",
     "is_executing": true
    }
   },
   "execution_count": null,
   "outputs": []
  },
  {
   "cell_type": "markdown",
   "source": [
    "Trasformo la colonna 'category' e la colonna 'shopping_mall' da stringhe in dati numerici e mostro come variano in base all'età le abitudini di acquisto"
   ],
   "metadata": {
    "id": "_CBKdy0Yv0_V",
    "pycharm": {
     "name": "#%% md\n"
    }
   }
  },
  {
   "cell_type": "code",
   "source": [
    "dfCategories = dfCopy.copy()\n",
    "#dfCategories['category'].replace(['Clothing', 'Cosmetics', 'Food & Beverage', 'Toys', 'Shoes', 'Souvenir', 'Technology', 'Books'], [1,2,3,4,5,6,7,8], inplace=True)\n",
    "#dfCategoriesMall = dfCategories.copy()\n",
    "#dfCategoriesMall['shopping_mall'].replace(['Mall of Istanbul', 'Kanyon', 'Metrocity', 'Metropol AVM', 'Istinye Park', 'Zorlu Center', 'Cevahir AVM', 'Forum Istanbul', 'Viaport Outlet', 'Emaar Square Mall'], [0,1,2,3,4,5,6,7,8,9], inplace=True)\n",
    "\n",
    "#dfCatGen = dfCategoriesMall.copy()\n",
    "#dfCatGen.drop(columns=['invoice_date'])\n",
    "#fig = px.histogram(dfCategories, x='category', y='price', color='gender', labels={'category': 'Category', 'gender': 'Gender'})\n",
    "#fig.show()\n",
    "\n",
    "plt.figure(figsize = (14,5))\n",
    "cdfr = sb.histplot(dfCategories, x='month', hue='category', element='bars', stat='density', common_norm=False)\n",
    "cdfr.set_title('Numero di prodotti per categoria venduti ogni mese', fontsize=14)\n",
    "sb.move_legend(obj=cdfr, loc = 'upper right', bbox_to_anchor=(1.15,1.019))\n",
    "\n",
    "#dfCatGen.head()"
   ],
   "metadata": {
    "id": "8z3WFcU8syJK",
    "executionInfo": {
     "status": "ok",
     "timestamp": 1682874967236,
     "user_tz": -120,
     "elapsed": 33395,
     "user": {
      "displayName": "Vincenzo Dimondo",
      "userId": "04023774400202034399"
     }
    },
    "colab": {
     "base_uri": "https://localhost:8080/",
     "height": 1000
    },
    "outputId": "e2572204-b3bb-4495-e9b2-12e6eca62f10",
    "pycharm": {
     "name": "#%%\n",
     "is_executing": true
    }
   },
   "execution_count": null,
   "outputs": []
  },
  {
   "cell_type": "code",
   "execution_count": null,
   "outputs": [],
   "source": [
    "dfCategories['shopping_mall'].value_counts()"
   ],
   "metadata": {
    "collapsed": false,
    "pycharm": {
     "name": "#%%\n",
     "is_executing": true
    }
   }
  },
  {
   "cell_type": "markdown",
   "source": [
    "Controlliamo la dimensionalità dei vari attributi"
   ],
   "metadata": {
    "collapsed": false,
    "pycharm": {
     "name": "#%% md\n"
    }
   }
  },
  {
   "cell_type": "code",
   "execution_count": null,
   "outputs": [],
   "source": [
    "dfCategories.nunique()"
   ],
   "metadata": {
    "collapsed": false,
    "pycharm": {
     "name": "#%%\n",
     "is_executing": true
    }
   }
  },
  {
   "cell_type": "code",
   "execution_count": null,
   "outputs": [],
   "source": [
    "plt.figure(figsize=(15, 8))\n",
    "ax = sb.countplot(x=dfCategories['year'])\n",
    "plt.bar_label(ax.containers[0])\n",
    "plt.show()"
   ],
   "metadata": {
    "collapsed": false,
    "pycharm": {
     "name": "#%%\n",
     "is_executing": true
    }
   }
  },
  {
   "cell_type": "code",
   "execution_count": null,
   "outputs": [],
   "source": [
    "plt.figure(figsize=(15, 8))\n",
    "ax = sb.countplot(x=dfCategories['category'])\n",
    "ax.set_xticklabels(['Clothing', 'Cosmetics', 'Food & Beverage', 'Toys', 'Shoes', 'Souvenir', 'Technology', 'Books'])\n",
    "plt.bar_label(ax.containers[0])\n",
    "plt.show()"
   ],
   "metadata": {
    "collapsed": false,
    "pycharm": {
     "name": "#%%\n",
     "is_executing": true
    }
   }
  },
  {
   "cell_type": "markdown",
   "source": [
    "La feature 'category' è la feature sulla quale si vuole fare predizione.Ciò che possiamo notare è che è abbastanza sbilanciata. Si userà, in  seguito, il RandomOverSampler per fare oversample sui dati così da poterli bilanciare."
   ],
   "metadata": {
    "collapsed": false,
    "pycharm": {
     "name": "#%% md\n"
    }
   }
  },
  {
   "cell_type": "code",
   "execution_count": null,
   "outputs": [],
   "source": [
    "plt.figure(figsize=(15, 8))\n",
    "ax = sb.countplot(x=dfCategories['shopping_mall'])\n",
    "plt.bar_label(ax.containers[0])\n",
    "plt.show()"
   ],
   "metadata": {
    "collapsed": false,
    "pycharm": {
     "name": "#%%\n",
     "is_executing": true
    }
   }
  },
  {
   "cell_type": "code",
   "execution_count": null,
   "outputs": [],
   "source": [
    "dfCategories.info()"
   ],
   "metadata": {
    "collapsed": false,
    "pycharm": {
     "name": "#%%\n",
     "is_executing": true
    }
   }
  },
  {
   "cell_type": "code",
   "execution_count": null,
   "outputs": [],
   "source": [
    "def calculate_product_percentage(data, attributo):\n",
    "    # calcolo il numero di prodotti comprati per ogni genere\n",
    "    gender_counts = data.groupby(attributo)['category'].count()\n",
    "    total_count = gender_counts.sum()\n",
    "    # calcolo la percentuale di prodotti comprati per ogni genere\n",
    "    percentages = (gender_counts / total_count) * 100\n",
    "\n",
    "    # Create a DataFrame from the calculated percentages\n",
    "    result_df = pd.DataFrame({attributo.upper(): percentages.index, 'Percentage': percentages.values})\n",
    "\n",
    "    return result_df"
   ],
   "metadata": {
    "collapsed": false,
    "pycharm": {
     "name": "#%%\n",
     "is_executing": true
    }
   }
  },
  {
   "cell_type": "code",
   "execution_count": null,
   "outputs": [],
   "source": [
    "calculate_product_percentage(dfCategories,'gender')"
   ],
   "metadata": {
    "collapsed": false,
    "pycharm": {
     "name": "#%%\n",
     "is_executing": true
    }
   }
  },
  {
   "cell_type": "code",
   "execution_count": null,
   "outputs": [],
   "source": [
    "fig = sb.countplot(x=dfCategories['gender'])\n",
    "plt.bar_label(ax.containers[0])\n",
    "fig.set_xticklabels(['Female', 'Male'])\n",
    "plt.show()"
   ],
   "metadata": {
    "collapsed": false,
    "pycharm": {
     "name": "#%%\n",
     "is_executing": true
    }
   }
  },
  {
   "cell_type": "markdown",
   "source": [
    "Come si può vedere dal grafico e dalla funzione, il 59% delle persone che acquistano prodotti sono donne, mentre il 41% sono uomini"
   ],
   "metadata": {
    "collapsed": false,
    "pycharm": {
     "name": "#%% md\n"
    }
   }
  },
  {
   "cell_type": "markdown",
   "source": [
    "#### CORRELAZIONE\n",
    "Stampo e mostro in un grafico la matrice di correlazione delle feature così da capire quali sono gli attributi che hanno una maggiore importanza"
   ],
   "metadata": {
    "collapsed": false,
    "pycharm": {
     "name": "#%% md\n"
    }
   }
  },
  {
   "cell_type": "code",
   "execution_count": null,
   "outputs": [],
   "source": [
    "df_cat= dfCategories.select_dtypes(include=['object']) #attributi categorici\n",
    "df_num= dfCategories.select_dtypes(include=[np.number]) #attributi numerici\n",
    "df_num.head()"
   ],
   "metadata": {
    "collapsed": false,
    "pycharm": {
     "name": "#%%\n",
     "is_executing": true
    }
   }
  },
  {
   "cell_type": "code",
   "execution_count": null,
   "outputs": [],
   "source": [
    "df_encoded = pd.concat([df_cat,df_num],axis=1)\n",
    "for attr in df_encoded.columns:\n",
    "    df_encoded[attr] = LabelEncoder().fit_transform(df_encoded[attr])\n",
    "df_encoded.head()"
   ],
   "metadata": {
    "collapsed": false,
    "pycharm": {
     "name": "#%%\n",
     "is_executing": true
    }
   }
  },
  {
   "cell_type": "code",
   "execution_count": null,
   "outputs": [],
   "source": [
    "#matrice di correlazione\n",
    "matr_corr = df_encoded.corr()\n",
    "#uso una heatmap per mostrare la matrice di correlazione\n",
    "plt.figure(figsize=(10,10))\n",
    "sb.heatmap(matr_corr, annot=True, cmap='coolwarm', fmt=\".2f\")\n",
    "plt.show()"
   ],
   "metadata": {
    "collapsed": false,
    "pycharm": {
     "name": "#%%\n",
     "is_executing": true
    }
   }
  },
  {
   "cell_type": "markdown",
   "source": [
    "Data la matrice di correlazione andiamo ad usare il RandomForest per capire il grado di importanza delle feautures"
   ],
   "metadata": {
    "collapsed": false,
    "pycharm": {
     "name": "#%% md\n"
    }
   }
  },
  {
   "cell_type": "code",
   "execution_count": null,
   "outputs": [],
   "source": [
    "attr = 'price'\n",
    "df_encoded_y = df_encoded[attr]\n",
    "df_encoded_x = df_encoded.drop(attr, axis=1)\n",
    "forest = RandomForestClassifier()\n",
    "forest.fit(df_encoded_x,df_encoded_y)\n",
    "\n",
    "attributi = df_encoded_x.columns\n",
    "importances = forest.feature_importances_ #grado di importanza fra tutti gli attributi\n",
    "index = np.argsort(importances) #mappa ogni grado di importanza con l-attributo corrispondente\n",
    "\n",
    "plt.figure(figsize=(10,10))\n",
    "plt.title('RandomForest - grado di importanza degli attributi')\n",
    "plt.barh(range(len(index)), importances[index], color='r', align='center')\n",
    "plt.yticks(range(len(index)), attributi[index])\n",
    "plt.show()"
   ],
   "metadata": {
    "collapsed": false,
    "pycharm": {
     "name": "#%%\n",
     "is_executing": true
    }
   }
  },
  {
   "cell_type": "markdown",
   "source": [
    "Visti i gradi di importanza dati dalla matrice di corelazione e in seguito dal random forest decidiamo di droppare gli attributi meno importanti, ovvero: \"gender\", \"year\", payment_method\""
   ],
   "metadata": {
    "collapsed": false,
    "pycharm": {
     "name": "#%% md\n"
    }
   }
  },
  {
   "cell_type": "code",
   "execution_count": null,
   "outputs": [],
   "source": [
    "df_final = df_encoded.drop(columns=[], axis=1)\n",
    "df_final.to_csv('df_final.csv', index=False)\n",
    "\n",
    "plt.figure(figsize=(10,6))\n",
    "ax = sb.countplot(x=df_final[attr])"
   ],
   "metadata": {
    "collapsed": false,
    "pycharm": {
     "name": "#%%\n",
     "is_executing": true
    }
   }
  },
  {
   "cell_type": "markdown",
   "source": [
    "#### Bilanciamento dataset e campionamento\n",
    "Fatto ciò andiamo a bilanciare il dataset, in particolare andiamo a vedere come sono distribuite le tuple all'interno della colonna 'category'"
   ],
   "metadata": {
    "collapsed": false,
    "pycharm": {
     "name": "#%% md\n"
    }
   }
  },
  {
   "cell_type": "code",
   "execution_count": null,
   "outputs": [],
   "source": [
    "dfBalanced = df_final.copy()\n",
    "\n",
    "X_class = dfBalanced.drop(attr, axis=1)\n",
    "y_class = dfBalanced[attr]\n",
    "\n",
    "#oversampler = RandomOverSampler()\n",
    "#x_oversampled, y_oversampled = oversampler.fit_resample(x,y)\n",
    "\n",
    "#oversampled_df = dfBalanced.copy()\n",
    "\n",
    "#ax = ax.set_xticklabels(['Clothing', 'Cosmetics', 'Food & Beverage', 'Toys', 'Shoes', 'Souvenir', 'Technology', 'Books'])\n",
    "\n",
    "smote = SMOTE(random_state=35)\n",
    "X_smote_class, y_smote_class = smote.fit_resample(X_class, y_class)\n",
    "oversampled_df = pd.concat([X_smote_class,y_smote_class], axis=1)\n",
    "plt.figure(figsize=(10,6))\n",
    "ax = sb.countplot(x=oversampled_df[attr])"
   ],
   "metadata": {
    "collapsed": false,
    "pycharm": {
     "name": "#%%\n",
     "is_executing": true
    }
   }
  },
  {
   "cell_type": "code",
   "execution_count": null,
   "outputs": [],
   "source": [
    "oversampled_df.shape"
   ],
   "metadata": {
    "collapsed": false,
    "pycharm": {
     "name": "#%%\n",
     "is_executing": true
    }
   }
  },
  {
   "cell_type": "code",
   "execution_count": null,
   "outputs": [],
   "source": [
    "oversampled_df.sample(n=150000, random_state=35) #n e random_state sono dei numeri casuali\n",
    "oversampled_df.info()"
   ],
   "metadata": {
    "collapsed": false,
    "pycharm": {
     "name": "#%%\n",
     "is_executing": true
    }
   }
  },
  {
   "cell_type": "code",
   "execution_count": null,
   "outputs": [],
   "source": [
    "fig, ax = plt.subplots(figsize=(10,10))\n",
    "oversampled_df.hist(ax=ax)\n",
    "plt.subplots_adjust(right=1.2,top=1.2)\n",
    "plt.show()"
   ],
   "metadata": {
    "collapsed": false,
    "pycharm": {
     "name": "#%%\n",
     "is_executing": true
    }
   }
  },
  {
   "cell_type": "code",
   "execution_count": null,
   "outputs": [],
   "source": [
    "oversampled_df.to_csv('df_sampled.csv', index=False)"
   ],
   "metadata": {
    "collapsed": false,
    "pycharm": {
     "name": "#%%\n",
     "is_executing": true
    }
   }
  },
  {
   "cell_type": "markdown",
   "source": [
    "### Classificatori"
   ],
   "metadata": {
    "collapsed": false,
    "pycharm": {
     "name": "#%% md\n"
    }
   }
  },
  {
   "cell_type": "code",
   "execution_count": null,
   "outputs": [],
   "source": [
    "sampled_df = pd.read_csv('df_sampled.csv')"
   ],
   "metadata": {
    "collapsed": false,
    "pycharm": {
     "name": "#%%\n",
     "is_executing": true
    }
   }
  },
  {
   "cell_type": "markdown",
   "source": [
    "Una volta finita la fase di data visualization e cleaning andiamo ad attuare le strategie di classificazione. Divido il dataset in ***training set*** e ***test set***. Il training set sarà usato per costruire il modello, il test sarà usato per testare le performance dello stesso. La suddivisione prevedere di utilizzare 2/3 del dataset per il training set, e il restante per il test set."
   ],
   "metadata": {
    "collapsed": false,
    "pycharm": {
     "name": "#%% md\n"
    }
   }
  },
  {
   "cell_type": "code",
   "execution_count": null,
   "outputs": [],
   "source": [
    "df_X = sampled_df.drop(attr, axis=1)\n",
    "df_Y = sampled_df[attr]\n",
    "\n",
    "X_train, X_test, y_train, y_test = train_test_split(df_X, df_Y, test_size=0.33, random_state=0)\n",
    "y_train = y_train.values.ravel() #trasformazione richiesta per gli algoritmi"
   ],
   "metadata": {
    "collapsed": false,
    "pycharm": {
     "name": "#%%\n",
     "is_executing": true
    }
   }
  },
  {
   "cell_type": "markdown",
   "source": [
    "#### Metriche utilizzate per la valutazione"
   ],
   "metadata": {
    "collapsed": false,
    "pycharm": {
     "name": "#%% md\n"
    }
   }
  },
  {
   "cell_type": "code",
   "execution_count": null,
   "outputs": [],
   "source": [
    "image = 'confusion_matrix.png'\n",
    "Image(filename=os.path.join(image),width=300)"
   ],
   "metadata": {
    "collapsed": false,
    "pycharm": {
     "name": "#%%\n",
     "is_executing": true
    }
   }
  },
  {
   "cell_type": "markdown",
   "source": [
    "Per introdurre le metriche che verranno utilizzate durante le analisi dobbiamo fare riferimento alla matrice di confusione. Questa è una matrice quadrata in cui le righe sono i valori corretti della classe mentre le colonne sono i valori predetti dal modello per la classe. Un problema di classificazione binaria presenta la seguente matrice di confusione:"
   ],
   "metadata": {
    "collapsed": false,
    "pycharm": {
     "name": "#%% md\n"
    }
   }
  },
  {
   "cell_type": "markdown",
   "source": [
    "A questo punto possiamo definire le metriche come segue:\n",
    "* Accuracy (accuratezza):\n",
    "  L'Accuracy rappresenta la percentuale di previsioni corrette rispetto al totale delle istanze valutate. È una misura di quanto il modello sia in grado di classificare correttamente gli esempi.\n",
    "\n",
    "* Error Rate (tasso di errore):\n",
    "  L'Error Rate è la misura complementare all'Accuracy e rappresenta la percentuale di previsioni errate rispetto al totale delle istanze valutate. Indica la percentuale di errori compiuti dal modello di classificazione.\n",
    "\n",
    "* Precision (precisione):\n",
    "  La Precision rappresenta la percentuale di previsioni positive corrette rispetto al totale delle previsioni positive effettuate dal modello. Misura l'accuratezza delle previsioni positive e fornisce un'indicazione sulla proporzione di elementi correttamente identificati come positivi rispetto al numero totale di elementi identificati come positivi.\n",
    "\n",
    "* Recall (richiamo):\n",
    "  La Recall rappresenta la percentuale di previsioni positive corrette rispetto al totale dei veri positivi e dei falsi negativi. Misura la capacità del modello di individuare correttamente gli elementi positivi, considerando sia i veri positivi (elementi correttamente classificati come positivi) che i falsi negativi (elementi erroneamente classificati come negativi).\n",
    "\n",
    "* F-measure (misura F):\n",
    "  L'F-measure rappresenta la media armonica tra Precision e Recall. È una misura che tiene conto sia della precisione che del richiamo del modello. L'F-measure fornisce un singolo valore che combina queste due misure, consentendo di valutare complessivamente le prestazioni del modello.\n",
    "\n",
    "Per calcolare queste metriche, è necessario utilizzare i valori corrispondenti dalla matrice di confusione (TP, TN, FP, FN). Ogni metrica ha una formula specifica per il calcolo basata su questi valori.\n",
    "\n",
    "Calcolate nel seguente modo."
   ],
   "metadata": {
    "collapsed": false,
    "pycharm": {
     "name": "#%% md\n"
    }
   }
  },
  {
   "cell_type": "markdown",
   "source": [
    "\\begin{align*}\n",
    "\\text{Accuracy} &= \\frac{TP + TN}{TP + TN + FP + FN} \\\\\n",
    "\\text{Error Rate} &= \\frac{FP + FN}{TP + TN + FP + FN} \\\\\n",
    "\\text{Precision} &= \\frac{TP}{TP + FP} \\\\\n",
    "\\text{Recall} &= \\frac{TP}{TP + FN} \\\\\n",
    "\\text{F1-Score} &= 2 \\cdot \\frac{\\text{Precision} \\cdot \\text{Recall}}{\\text{Precision} + \\text{Recall}}\n",
    "\\end{align*}\n"
   ],
   "metadata": {
    "collapsed": false,
    "pycharm": {
     "name": "#%% md\n"
    }
   }
  },
  {
   "cell_type": "markdown",
   "source": [
    "Vediamo la curva di **AUC-ROC**"
   ],
   "metadata": {
    "collapsed": false,
    "pycharm": {
     "name": "#%% md\n"
    }
   }
  },
  {
   "cell_type": "code",
   "execution_count": null,
   "outputs": [],
   "source": [
    "image2 = 'auc-roc.png'\n",
    "Image(filename=os.path.join(image2),width=350)"
   ],
   "metadata": {
    "collapsed": false,
    "pycharm": {
     "name": "#%%\n",
     "is_executing": true
    }
   }
  },
  {
   "cell_type": "markdown",
   "source": [
    "\\begin{align*}\n",
    "\\text{Sensitivity} &= \\text{Recall} = \\frac{TP}{TP + FN} \\\\\n",
    "\\text{Specificity} &= \\frac{TN}{TN + FP} \\\\\n",
    "\\text{False Positive Rate} &= 1 - \\text{Specificity} = \\frac{FP}{TN + FP} \\\\\n",
    "\\end{align*}"
   ],
   "metadata": {
    "collapsed": false,
    "pycharm": {
     "name": "#%% md\n"
    }
   }
  },
  {
   "cell_type": "markdown",
   "source": [
    "La curva ROC (Receiver Operating Characteristic) è un grafico utilizzato per valutare le prestazioni di un modello di classificazione binaria. Mostra come variano il tasso di veri positivi (TPR) e il tasso di falsi positivi (FPR) al variare della soglia di classificazione del modello.\n",
    "\n",
    "Nella curva ROC, l'asse verticale rappresenta la capacità del modello di individuare correttamente gli esempi positivi (TPR). Più il TPR è alto, migliore è il modello nell'identificare correttamente gli esempi positivi.\n",
    "\n",
    "L'asse orizzontale rappresenta la proporzione di esempi negativi erroneamente classificati come positivi (FPR). Più il FPR è basso, migliore è il modello nel limitare gli errori di classificazione degli esempi negativi.\n",
    "\n",
    "La curva ROC viene generata variando la soglia di classificazione del modello. Per ogni soglia, vengono calcolati il TPR e il FPR corrispondenti. Ogni punto sulla curva rappresenta una combinazione di TPR e FPR a una specifica soglia."
   ],
   "metadata": {
    "collapsed": false,
    "pycharm": {
     "name": "#%% md\n"
    }
   }
  },
  {
   "cell_type": "markdown",
   "source": [
    "Definisco a questo punto dei dataframe utili per il salvataggio dei dati"
   ],
   "metadata": {
    "collapsed": false,
    "pycharm": {
     "name": "#%% md\n"
    }
   }
  },
  {
   "cell_type": "code",
   "execution_count": null,
   "outputs": [],
   "source": [
    "# data frame per risultati dei modelli per la cross-validation\n",
    "results= pd.DataFrame(columns=['NomeModello','Accuracy','ErrorRate','Precision','Recall','F-score','Time'])"
   ],
   "metadata": {
    "collapsed": false,
    "pycharm": {
     "name": "#%%\n",
     "is_executing": true
    }
   }
  },
  {
   "cell_type": "code",
   "execution_count": null,
   "outputs": [],
   "source": [
    "def valuta_performance(nomeModello, modello, X, y, data,temp):\n",
    "    indici = data[data['NomeModello'] == nomeModello].index\n",
    "    for j in range(len(indici)):\n",
    "        data.drop(indici[j], inplace = True)\n",
    "    accuracy = cross_val_score(modello, X ,y, cv=10 ,scoring=\"accuracy\").mean()\n",
    "    error = (1-accuracy)\n",
    "    precision = cross_val_score(modello, X ,y, cv=10 ,scoring=\"average_precision\").mean()\n",
    "    recall = cross_val_score(modello, X ,y, cv=10 ,scoring=\"recall_micro\").mean()\n",
    "    f_score = cross_val_score(modello, X ,y, cv=10 ,scoring=\"f1_micro\").mean()\n",
    "\n",
    "    row = pd.DataFrame({'NomeModello': [nomeModello],\n",
    "                        'Accuracy': [accuracy],\n",
    "                        'ErrorRate': [error],\n",
    "                        'Precision': [precision],\n",
    "                        'Recall': [recall],\n",
    "                        'F-score': [f_score],\n",
    "                        'Time': [temp]})\n",
    "\n",
    "    data = pd.concat([data, row], ignore_index=True)\n",
    "\n",
    "    return data"
   ],
   "metadata": {
    "collapsed": false,
    "pycharm": {
     "name": "#%%\n",
     "is_executing": true
    }
   }
  },
  {
   "cell_type": "code",
   "execution_count": null,
   "outputs": [],
   "source": [
    "# dataframe utili per il plotting delle performance dei classificatori\n",
    "models=[\"Albero_Decisionale\",]\n",
    "results_test= pd.DataFrame(index=models,columns=[\"accuracy\",\"balanced_accuracy\",\"precision\",\"w_precision\",\"recall\",\"w_recall\",\"f1\"])\n",
    "results_train= pd.DataFrame(index=models,columns=[\"accuracy\",\"balanced_accuracy\",\"precision\",\"w_precision\",\"recall\",\"w_recall\",\"f1\"])"
   ],
   "metadata": {
    "collapsed": false,
    "pycharm": {
     "name": "#%%\n",
     "is_executing": true
    }
   }
  },
  {
   "cell_type": "code",
   "execution_count": null,
   "outputs": [],
   "source": [
    "# dataframe specifico per le ANN\n",
    "models_neural=[\"ANN\",\"MLP\"]\n",
    "results_test_neural= pd.DataFrame(index=models_neural,columns=[\"accuracy\",\"balanced_accuracy\",\"precision\",\"w_precision\",\"recall\",\"w_recall\",\"f1\"])"
   ],
   "metadata": {
    "collapsed": false,
    "pycharm": {
     "name": "#%%\n",
     "is_executing": true
    }
   }
  },
  {
   "cell_type": "code",
   "execution_count": null,
   "outputs": [],
   "source": [
    "# funzione per salvare gli score dei relativi modelli\n",
    "def set_scores(df,model,label,predicted):\n",
    "    df.loc[model][\"f1\"]=f1_score(label, predicted, average='weighted')\n",
    "    df.loc[model][\"accuracy\"]=accuracy_score(label, predicted)\n",
    "    df.loc[model][\"recall\"]=recall_score(label, predicted, average='weighted')\n",
    "    df.loc[model][\"precision\"]=precision_score(label, predicted, average='weighted')\n",
    "    df.loc[model][\"balanced_accuracy\"]=balanced_accuracy_score(label, predicted)\n",
    "    df.loc[model][\"w_recall\"]=recall_score(label, predicted,average='weighted')\n",
    "    df.loc[model][\"w_precision\"]=precision_score(label, predicted,average='weighted')"
   ],
   "metadata": {
    "collapsed": false,
    "pycharm": {
     "name": "#%%\n",
     "is_executing": true
    }
   }
  },
  {
   "cell_type": "code",
   "execution_count": null,
   "outputs": [],
   "source": [
    "# Lista degli score per la ROC\n",
    "lista_predizioni = []"
   ],
   "metadata": {
    "collapsed": false,
    "pycharm": {
     "name": "#%%\n",
     "is_executing": true
    }
   }
  },
  {
   "cell_type": "markdown",
   "source": [
    "Di seguito vengono utilizzati vari modelli di classificazione addestrando ognuno di essi e poi utilizzando una **GridSearchCV** per la ricerca dei migliori iperparametri di un modello"
   ],
   "metadata": {
    "collapsed": false,
    "pycharm": {
     "name": "#%% md\n"
    }
   }
  },
  {
   "cell_type": "markdown",
   "source": [
    "#### Albero Decisionale\n",
    "Un albero decisionale (o decision tree) è una struttura di dati ad albero utilizzata per prendere decisioni o fare previsioni in base a una serie di condizioni o attributi.\n",
    "Può essere utilizzato per classificare esempi in diverse categorie o per stimare valori numerici (regressione). Gli alberi decisionali possono anche essere utilizzati per la selezione delle caratteristiche, l'individuazione di outlier e altre attività di analisi dei dati."
   ],
   "metadata": {
    "collapsed": false,
    "pycharm": {
     "name": "#%% md\n"
    }
   }
  },
  {
   "cell_type": "code",
   "execution_count": null,
   "outputs": [],
   "source": [
    "start = time.time()\n",
    "albero = DecisionTreeClassifier(random_state=42)\n",
    "albero = albero.fit(X_train, y_train)\n",
    "stop = time.time()-start"
   ],
   "metadata": {
    "collapsed": false,
    "pycharm": {
     "name": "#%%\n",
     "is_executing": true
    }
   }
  },
  {
   "cell_type": "code",
   "execution_count": null,
   "outputs": [],
   "source": [
    "result = valuta_performance('Albero Decisionale', albero, X_train, y_train, results, stop)"
   ],
   "metadata": {
    "collapsed": false,
    "pycharm": {
     "name": "#%%\n",
     "is_executing": true
    }
   }
  },
  {
   "cell_type": "markdown",
   "source": [
    "#### Risultati Train set"
   ],
   "metadata": {
    "collapsed": false,
    "pycharm": {
     "name": "#%% md\n"
    }
   }
  },
  {
   "cell_type": "code",
   "execution_count": null,
   "outputs": [],
   "source": [
    "y_pred_train_albero = albero.predict(X_train)"
   ],
   "metadata": {
    "collapsed": false,
    "pycharm": {
     "name": "#%%\n",
     "is_executing": true
    }
   }
  },
  {
   "cell_type": "code",
   "execution_count": null,
   "outputs": [],
   "source": [
    "confusion_matrix = metrics.confusion_matrix(y_train, y_pred_train_albero)\n",
    "\n",
    "cm_display = metrics.ConfusionMatrixDisplay(confusion_matrix = confusion_matrix)\n",
    "fig, ax = plt.subplots(figsize=(9,9))\n",
    "cm_display.plot(ax=ax, values_format='d')\n",
    "plt.show()\n",
    "\n",
    "print(classification_report(y_train, y_pred_train_albero))"
   ],
   "metadata": {
    "collapsed": false,
    "pycharm": {
     "name": "#%%\n",
     "is_executing": true
    }
   }
  },
  {
   "cell_type": "code",
   "execution_count": null,
   "outputs": [],
   "source": [
    "set_scores(results_train, \"Albero_Decisionale\", y_train, y_pred_train_albero)"
   ],
   "metadata": {
    "collapsed": false,
    "pycharm": {
     "name": "#%%\n",
     "is_executing": true
    }
   }
  },
  {
   "cell_type": "markdown",
   "source": [
    "#### Risultati test set"
   ],
   "metadata": {
    "collapsed": false,
    "pycharm": {
     "name": "#%% md\n"
    }
   }
  },
  {
   "cell_type": "code",
   "execution_count": null,
   "outputs": [],
   "source": [
    "y_pred_test_albero = albero.predict(X_test)"
   ],
   "metadata": {
    "collapsed": false,
    "pycharm": {
     "name": "#%%\n",
     "is_executing": true
    }
   }
  },
  {
   "cell_type": "code",
   "execution_count": null,
   "outputs": [],
   "source": [
    "lista_predizioni.append(y_pred_test_albero)"
   ],
   "metadata": {
    "collapsed": false,
    "pycharm": {
     "name": "#%%\n",
     "is_executing": true
    }
   }
  },
  {
   "cell_type": "code",
   "execution_count": null,
   "outputs": [],
   "source": [
    "confusion_matrix = metrics.confusion_matrix(y_test, y_pred_test_albero)\n",
    "\n",
    "cm_display = metrics.ConfusionMatrixDisplay(confusion_matrix = confusion_matrix)\n",
    "fig, ax = plt.subplots(figsize=(9,9))\n",
    "cm_display.plot(ax=ax, values_format='d')\n",
    "plt.show()\n",
    "\n",
    "print(classification_report(y_test, y_pred_test_albero))"
   ],
   "metadata": {
    "collapsed": false,
    "pycharm": {
     "name": "#%%\n",
     "is_executing": true
    }
   }
  },
  {
   "cell_type": "markdown",
   "source": [
    "#### Naive Bayes"
   ],
   "metadata": {
    "collapsed": false,
    "pycharm": {
     "name": "#%% md\n"
    }
   }
  },
  {
   "cell_type": "code",
   "execution_count": null,
   "outputs": [],
   "source": [
    "start = time.time()\n",
    "nb = GaussianNB()\n",
    "nb = nb.fit(X_train, y_train)\n",
    "stop = time.time() - start"
   ],
   "metadata": {
    "collapsed": false,
    "pycharm": {
     "name": "#%%\n",
     "is_executing": true
    }
   }
  },
  {
   "cell_type": "code",
   "execution_count": null,
   "outputs": [],
   "source": [
    "results = valuta_performance(\"Naive Bayes Gaussian\", nb, X_train, y_train, results, stop)"
   ],
   "metadata": {
    "collapsed": false,
    "pycharm": {
     "name": "#%%\n",
     "is_executing": true
    }
   }
  },
  {
   "cell_type": "markdown",
   "source": [
    "#### Risultati Train set"
   ],
   "metadata": {
    "collapsed": false,
    "pycharm": {
     "name": "#%% md\n"
    }
   }
  },
  {
   "cell_type": "code",
   "execution_count": null,
   "outputs": [],
   "source": [
    "y_pred_train_bayes = nb.predict(X_train)"
   ],
   "metadata": {
    "collapsed": false,
    "pycharm": {
     "name": "#%%\n",
     "is_executing": true
    }
   }
  },
  {
   "cell_type": "code",
   "execution_count": null,
   "outputs": [],
   "source": [
    "confusion_matrix = metrics.confusion_matrix(y_train, y_pred_train_bayes)\n",
    "\n",
    "cm_display = metrics.ConfusionMatrixDisplay(confusion_matrix = confusion_matrix)\n",
    "fig, ax= plt.subplots(figsize=(10,10))\n",
    "cm_display.plot(ax=ax, values_format='d')\n",
    "plt.show()\n",
    "\n",
    "print(classification_report(y_train, y_pred_train_bayes))"
   ],
   "metadata": {
    "collapsed": false,
    "pycharm": {
     "name": "#%%\n",
     "is_executing": true
    }
   }
  },
  {
   "cell_type": "markdown",
   "source": [
    "#### Logistic Regression"
   ],
   "metadata": {
    "collapsed": false,
    "pycharm": {
     "name": "#%% md\n"
    }
   }
  },
  {
   "cell_type": "code",
   "execution_count": null,
   "outputs": [],
   "source": [
    "start = time.time()\n",
    "logReg = LogisticRegression(random_state=42, max_iter=5000)\n",
    "logReg = logReg.fit(X_train, y_train)\n",
    "stop = time.time() - start"
   ],
   "metadata": {
    "collapsed": false,
    "pycharm": {
     "name": "#%%\n",
     "is_executing": true
    }
   }
  },
  {
   "cell_type": "code",
   "execution_count": null,
   "outputs": [],
   "source": [
    "results = valuta_performance(\"Logistic Regression\", logReg, X_train, y_train, results, stop)"
   ],
   "metadata": {
    "collapsed": false,
    "pycharm": {
     "name": "#%%\n",
     "is_executing": true
    }
   }
  },
  {
   "cell_type": "markdown",
   "source": [
    "#### Risultati Train Set"
   ],
   "metadata": {
    "collapsed": false,
    "pycharm": {
     "name": "#%% md\n"
    }
   }
  },
  {
   "cell_type": "code",
   "execution_count": null,
   "outputs": [],
   "source": [
    "y_pred_train_log = logReg.predict(X_train)"
   ],
   "metadata": {
    "collapsed": false,
    "pycharm": {
     "name": "#%%\n",
     "is_executing": true
    }
   }
  },
  {
   "cell_type": "code",
   "execution_count": null,
   "outputs": [],
   "source": [
    "confusion_matrix = metrics.confusion_matrix(y_train, y_pred_train_bayes)\n",
    "\n",
    "cm_display = metrics.ConfusionMatrixDisplay(confusion_matrix = confusion_matrix)\n",
    "fig, ax= plt.subplots(figsize=(10,10))\n",
    "cm_display.plot(ax=ax, values_format='d')\n",
    "plt.show()\n",
    "\n",
    "print(classification_report(y_train, y_pred_train_log))"
   ],
   "metadata": {
    "collapsed": false,
    "pycharm": {
     "name": "#%%\n",
     "is_executing": true
    }
   }
  },
  {
   "cell_type": "code",
   "execution_count": null,
   "outputs": [],
   "source": [
    "results_train"
   ],
   "metadata": {
    "collapsed": false,
    "pycharm": {
     "name": "#%%\n",
     "is_executing": true
    }
   }
  }
 ]
}